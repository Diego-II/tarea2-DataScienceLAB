{
 "cells": [
  {
   "cell_type": "markdown",
   "metadata": {
    "colab_type": "text",
    "id": "QpiIPdVvoHiF"
   },
   "source": [
    "# MA6202: Laboratorio de Ciencia de Datos\n",
    "\n",
    "### **Profesor:** Nicolás Caro\n",
    "\n",
    "### 12/07/2020 - Tarea 2\n",
    "\n",
    "\n",
    "### **Integrantes del grupo**: "
   ]
  },
  {
   "cell_type": "markdown",
   "metadata": {
    "colab_type": "text",
    "id": "q_8nAYzzo574"
   },
   "source": [
    "# Pregunta 1: Carga y transformacion de datos."
   ]
  },
  {
   "cell_type": "code",
   "execution_count": null,
   "metadata": {
    "colab": {
     "base_uri": "https://localhost:8080/",
     "height": 1000
    },
    "colab_type": "code",
    "id": "CWfEI8Oxnv6j",
    "outputId": "fd9890bf-9da9-4662-f7f0-6e542a616236"
   },
   "outputs": [],
   "source": [
    "#Estas lineas corren solo en google colab:\n",
    "import os.path \n",
    "try:\n",
    "  import google.colab\n",
    "  IN_COLAB = True\n",
    "except:\n",
    "  IN_COLAB = False\n",
    "if IN_COLAB:\n",
    "  if os.path.exists('/content/ChestXRay2017.zip'):\n",
    "    print(\"Datos ya descargados\")\n",
    "  else:\n",
    "    !wget https://data.mendeley.com/datasets/rscbjbr9sj/2/files/f12eaf6d-6023-432f-acc9-80c9d7393433/ChestXRay2017.zip\n",
    "    !unzip /content/ChestXRay2017.zip"
   ]
  },
  {
   "cell_type": "code",
   "execution_count": null,
   "metadata": {
    "colab": {},
    "colab_type": "code",
    "id": "mfoNboyIolBF"
   },
   "outputs": [],
   "source": [
    "import torch\n",
    "import torchvision\n",
    "from torchvision.datasets.folder import default_loader"
   ]
  },
  {
   "cell_type": "code",
   "execution_count": null,
   "metadata": {
    "colab": {},
    "colab_type": "code",
    "id": "SR3_62kTskvH"
   },
   "outputs": [],
   "source": [
    "# Torchvision transforms compose para carga de datos con transformacion:\n",
    "root = '/content/chest_xray/train/'\n",
    "\n",
    "degrees = (-20,20)\n",
    "transformer = torchvision.transforms.Compose([\n",
    "    # Escalamiento                                          \n",
    "    torchvision.transforms.Resize(size = (224,224)),\n",
    "    # Rotacion con p=0.5\n",
    "    torchvision.transforms.RandomHorizontalFlip(p=0.5),\n",
    "    # Rotacion entre -20 y 20 grados\n",
    "    torchvision.transforms.RandomRotation(degrees),\n",
    "    # Multiplicacion de canales de brillo\n",
    "    torchvision.transforms.ColorJitter(brightness=[1.2, 1.5]),\n",
    "    torchvision.transforms.ToTensor(), \n",
    "    ])\n",
    "\n",
    "loader = torchvision.datasets.ImageFolder(root = root,\n",
    "                                          transform = transformer)\n",
    "\n",
    "data_train1 = torchvision.datasets.DatasetFolder(root='/content/chest_xray//train', \n",
    "                                                 loader=default_loader, \n",
    "                                                 transform=transformer, \n",
    "                                                 extensions='jpeg')\n",
    "data_test1 = torchvision.datasets.DatasetFolder(root='/content/chest_xray//test',\n",
    "                                                loader=default_loader,\n",
    "                                                transform=transformer, \n",
    "                                                extensions='jpeg')\n"
   ]
  },
  {
   "cell_type": "code",
   "execution_count": null,
   "metadata": {
    "colab": {
     "base_uri": "https://localhost:8080/",
     "height": 70
    },
    "colab_type": "code",
    "id": "mvQcZLdT8M4A",
    "outputId": "60fdeb2c-85bd-4319-d4c3-041aa0ebe639"
   },
   "outputs": [],
   "source": [
    "print(loader.__len__())\n",
    "print(data_train1.__len__())\n",
    "print(data_test1.__len__())"
   ]
  },
  {
   "cell_type": "code",
   "execution_count": null,
   "metadata": {
    "colab": {
     "base_uri": "https://localhost:8080/",
     "height": 426
    },
    "colab_type": "code",
    "id": "IKuhvmPbglMR",
    "outputId": "38a3bb75-6cd4-467f-d69c-19a7a86c96dc"
   },
   "outputs": [],
   "source": [
    "print((data_train1[0]))\n",
    "tensor_image = data_train1[0][0].permute(1, 2, 0)\n",
    "#tensor_image = tensor_image.view(tensor_image.shape[1], tensor_image.shape[2], tensor_image.shape[0])"
   ]
  },
  {
   "cell_type": "code",
   "execution_count": null,
   "metadata": {
    "colab": {
     "base_uri": "https://localhost:8080/",
     "height": 287
    },
    "colab_type": "code",
    "id": "EDAlOqVzGx3E",
    "outputId": "28e8dbc4-73d2-42b8-9237-3d6716703e49"
   },
   "outputs": [],
   "source": [
    "import matplotlib.pyplot as plt\n",
    "plt.imshow(tensor_image)"
   ]
  },
  {
   "cell_type": "markdown",
   "metadata": {
    "colab_type": "text",
    "id": "phRpM7Y4pR8Z"
   },
   "source": [
    "# 2 Redes convolucionales profundas"
   ]
  },
  {
   "cell_type": "code",
   "execution_count": null,
   "metadata": {
    "colab": {},
    "colab_type": "code",
    "id": "npe33J3HpR8c"
   },
   "outputs": [],
   "source": [
    "#1 \n",
    "import torch\n",
    "import torch.nn as nn\n",
    "import torch.nn.functional as F\n",
    "\n",
    "torch.manual_seed(2020)\n",
    "\n",
    "\n",
    "class DWSepConv2d(nn.Module):\n",
    "    \n",
    "    def __init__(self,in_channels, out_channels, kernel_size,padding,bias=True):\n",
    "        super().__init__()\n",
    "        self.conv1 = nn.Conv2d(in_channels, out_channels,kernel_size,padding=padding,bias=bias)\n",
    "        self.conv2 = nn.Conv2d(out_channels, out_channels,kernel_size=1,padding=padding,bias=bias)\n",
    "    def forward(self,xb):\n",
    "        xb = F.relu(self.conv1(xb.float()))\n",
    "        xb = F.relu(self.conv2(xb)) \n",
    "        return xb"
   ]
  },
  {
   "cell_type": "code",
   "execution_count": null,
   "metadata": {
    "colab": {},
    "colab_type": "code",
    "id": "OPysTn8MpR8m"
   },
   "outputs": [],
   "source": [
    "#2\n",
    "\n",
    "class VGG16DWSep(nn.Module):\n",
    "    \n",
    "    def __init__(self,in_channels):\n",
    "        super().__init__()\n",
    "        self.conv1 = nn.Conv2d(in_channels,64,kernel_size=3,padding=1,stride=1)\n",
    "        self.conv2 = nn.Conv2d(64,64,kernel_size=3, padding=1, stride=1)\n",
    "        self.maxpool1 = nn.MaxPool2d(kernel_size=2,stride=2) # verificar los tamaños\n",
    "        self.dwconv3 = DWSepConv2d(64,128,kernel_size=3,padding=1)\n",
    "        self.dwconv4 = DWSepConv2d(128,128,kernel_size=3,padding=1)\n",
    "        self.maxpool2 = nn.MaxPool2d(kernel_size=2,stride=2)\n",
    "        self.dwconv5 = DWSepConv2d(128,256,kernel_size=3,padding=1)\n",
    "        self.batchnorm1 = nn.BatchNorm2d(256)\n",
    "        self.dwconv6 = DWSepConv2d(256,256,kernel_size=3,padding=1)\n",
    "        self.batchnorm2 = nn.BatchNorm2d(256)\n",
    "        self.dwconv7 = DWSepConv2d(256,256,kernel_size=3,padding=1)\n",
    "        self.maxpool3 = nn.MaxPool2d(kernel_size=2,stride=2)\n",
    "        self.dwconv8 = DWSepConv2d(256,512,kernel_size=3,padding=1)\n",
    "        self.batchnorm3 = nn.BatchNorm2d(512)\n",
    "        self.dwconv9 = DWSepConv2d(512,512,kernel_size=3,padding=1)\n",
    "        self.batchnorm4 = nn.BatchNorm2d(512)\n",
    "        self.dwconv10 = DWSepConv2d(512,512,kernel_size=3,padding=1)\n",
    "        self.maxpool4 = nn.MaxPool2d(kernel_size=2,stride=2)\n",
    "        self.flatten1 = nn.Flatten()\n",
    "        self.lin1 = nn.Linear(512,1024)\n",
    "        self.drop1 = nn.Dropout(.7)\n",
    "        self.lin2 = nn.Linear(1024,512)\n",
    "        self.drop2 = nn.Dropout(.5)\n",
    "        self.lin3 = nn.Linear(512,2)\n",
    "    \n",
    "    def forward(self,xb):\n",
    "        xb = xb.view(-1,3,224,224).float()\n",
    "        xb = F.relu(self.conv1(xb))\n",
    "        xb = F.relu(self.conv2(xb))\n",
    "        xb = F.relu(self.maxpool1(xb))\n",
    "        xb = F.relu(self.dwconv3(xb))\n",
    "        xb = F.relu(self.dwconv4(xb))\n",
    "        xb = F.relu(self.maxpool2(xb))\n",
    "        xb = F.relu(self.dwconv5(xb))\n",
    "        xb = F.relu(self.batchnorm1(xb))\n",
    "        xb = F.relu(self.dwconv6(xb))\n",
    "        xb = F.relu(self.batchnorm2(xb))\n",
    "        xb = F.relu(self.dwconv7(xb))\n",
    "        xb = F.relu(self.maxpool3(xb))\n",
    "        xb = F.relu(self.dwconv8(xb))\n",
    "        xb = F.relu(self.batchnorm3(xb))\n",
    "        xb = F.relu(self.dwconv9(xb))\n",
    "        xb = F.relu(self.mbatchnorm4(xb))\n",
    "        xb = F.relu(self.dwconv10(xb))\n",
    "        xb = F.relu(self.flatten1(xb))\n",
    "        xb = F.relu(self.lin1(xb))\n",
    "        xb = F.relu(self.drop1(xb))\n",
    "        xb = F.relu(self.lin2(xb))\n",
    "        xb = F.relu(self.drop2(xb))\n",
    "        xb = F.relu(self.lin3(xb))\n",
    "        \n",
    "        \n",
    "        "
   ]
  },
  {
   "cell_type": "code",
   "execution_count": null,
   "metadata": {
    "colab": {},
    "colab_type": "code",
    "id": "lGo1K2IZCtjV"
   },
   "outputs": [],
   "source": [
    "import os\n",
    "try:\n",
    "    from urllib.request import URLopener\n",
    "except ImportError:\n",
    "    from urllib import URLopener\n",
    "\n",
    "# Download VGG-16 weights from PyTorch\n",
    "vgg_url = 'https://download.pytorch.org/models/vgg16_bn-6c64b313.pth'\n",
    "if not os.path.isfile('./vgg16_bn-6c64b313.pth'):\n",
    "    weights = URLopener().retrieve(vgg_url, './vgg16_bn-6c64b313.pth')\n",
    "\n",
    "vgg16_weights = torch.load('./vgg16_bn-6c64b313.pth')"
   ]
  },
  {
   "cell_type": "code",
   "execution_count": null,
   "metadata": {
    "colab": {
     "base_uri": "https://localhost:8080/",
     "height": 84,
     "referenced_widgets": [
      "fd805936697746f49550fc624c2c4fcd",
      "6e207a30d63845a5b6b0d25dd671953c",
      "c8bed6f8651c4c95ad9ad8da3117d81f",
      "2dd17633bd9849deadbe8de0f449f416",
      "79b789365b9144179b68a03a5cc7d8cf",
      "6e5d19d58ac74a2c95c960d3e29f88bb",
      "308c506ce70b43bd8099689ce80a2cc0",
      "d43780c80e5f46d4a8bf01fe718add68"
     ]
    },
    "colab_type": "code",
    "id": "upmg1u_S6x-P",
    "outputId": "25c59a59-9545-469c-c5d8-210b66d859e5"
   },
   "outputs": [],
   "source": [
    "# Descargamos la red vgg16\n",
    "vgg16 = torchvision.models.vgg16(pretrained=True, progress=True)"
   ]
  },
  {
   "cell_type": "code",
   "execution_count": null,
   "metadata": {
    "colab": {
     "base_uri": "https://localhost:8080/",
     "height": 941
    },
    "colab_type": "code",
    "id": "ieGoNAr5AS0Z",
    "outputId": "b070ef3d-8a47-40a5-af90-2cf52ccea58b"
   },
   "outputs": [],
   "source": [
    "from torchsummary import summary\n",
    "summary(vgg16.cuda(),(3,224,244))"
   ]
  },
  {
   "cell_type": "code",
   "execution_count": null,
   "metadata": {
    "colab": {
     "base_uri": "https://localhost:8080/",
     "height": 70
    },
    "colab_type": "code",
    "id": "ZK7LNghwBFew",
    "outputId": "3f9c9122-0000-4b94-eecd-ed4d5861f946"
   },
   "outputs": [],
   "source": [
    "# Se deben obtener las dos primeras capas de convolucion de la red VGG16\n",
    "for i in range(3):\n",
    "  print(vgg16.features[i])"
   ]
  },
  {
   "cell_type": "code",
   "execution_count": null,
   "metadata": {
    "colab": {
     "base_uri": "https://localhost:8080/",
     "height": 817
    },
    "colab_type": "code",
    "id": "YfeiezMZryNC",
    "outputId": "227740b6-5643-416b-cf40-6b74439b8a56"
   },
   "outputs": [],
   "source": [
    "vgg16.state_dict"
   ]
  },
  {
   "cell_type": "code",
   "execution_count": null,
   "metadata": {
    "colab": {},
    "colab_type": "code",
    "id": "5CTq1ZMVofBV"
   },
   "outputs": [],
   "source": [
    "# Se quiere la capa 0 y la 2, que son las dos primeras convolucionales:\n",
    "pesos_dict = {\n",
    "    'conv1' : vgg16.features[0],\n",
    "    'conv2' : vgg16.features[2]\n",
    "}"
   ]
  },
  {
   "cell_type": "code",
   "execution_count": null,
   "metadata": {
    "colab": {},
    "colab_type": "code",
    "id": "xxtQetc2sI5F"
   },
   "outputs": [],
   "source": [
    "net = VGG16DWSep(in_channels = 3)"
   ]
  },
  {
   "cell_type": "code",
   "execution_count": null,
   "metadata": {
    "colab": {},
    "colab_type": "code",
    "id": "0ZTptthUFKwM"
   },
   "outputs": [],
   "source": [
    "#intento de traspaso de pesos:\n",
    "net.conv1 = pesos_dict['conv1']\n",
    "net.conv2 = pesos_dict['conv2']"
   ]
  },
  {
   "cell_type": "code",
   "execution_count": null,
   "metadata": {
    "colab": {},
    "colab_type": "code",
    "id": "DUF2tE7lY6sX"
   },
   "outputs": [],
   "source": [
    "# Congelamos los pesos de la red vgg16\n",
    "for param in vgg16.parameters():\n",
    "  param.requires_grad = False"
   ]
  },
  {
   "cell_type": "code",
   "execution_count": null,
   "metadata": {
    "colab": {},
    "colab_type": "code",
    "id": "i4WOBRrPFnYg"
   },
   "outputs": [],
   "source": [
    "# Congelamos los pesos de las dos primeras capas convoluvionales de la red \n",
    "# (capas que se transfirieron):\n",
    "net.conv1.requires_grad_ = False\n",
    "net.conv2.requires_grad_ = False"
   ]
  },
  {
   "cell_type": "code",
   "execution_count": null,
   "metadata": {
    "colab": {
     "base_uri": "https://localhost:8080/",
     "height": 906
    },
    "colab_type": "code",
    "id": "maLfdLevFvFY",
    "outputId": "cb7f1b0f-01e3-4348-d8e6-45117df1db32"
   },
   "outputs": [],
   "source": [
    "net.cuda()"
   ]
  }
 ],
 "metadata": {
  "accelerator": "GPU",
  "colab": {
   "name": "Tarea2.ipynb",
   "provenance": []
  },
  "kernelspec": {
   "display_name": "Python 3",
   "language": "python",
   "name": "python3"
  },
  "language_info": {
   "codemirror_mode": {
    "name": "ipython",
    "version": 3
   },
   "file_extension": ".py",
   "mimetype": "text/x-python",
   "name": "python",
   "nbconvert_exporter": "python",
   "pygments_lexer": "ipython3",
   "version": "3.7.7"
  },
  "widgets": {
   "application/vnd.jupyter.widget-state+json": {
    "2dd17633bd9849deadbe8de0f449f416": {
     "model_module": "@jupyter-widgets/controls",
     "model_name": "HTMLModel",
     "state": {
      "_dom_classes": [],
      "_model_module": "@jupyter-widgets/controls",
      "_model_module_version": "1.5.0",
      "_model_name": "HTMLModel",
      "_view_count": null,
      "_view_module": "@jupyter-widgets/controls",
      "_view_module_version": "1.5.0",
      "_view_name": "HTMLView",
      "description": "",
      "description_tooltip": null,
      "layout": "IPY_MODEL_d43780c80e5f46d4a8bf01fe718add68",
      "placeholder": "​",
      "style": "IPY_MODEL_308c506ce70b43bd8099689ce80a2cc0",
      "value": " 528M/528M [00:02&lt;00:00, 216MB/s]"
     }
    },
    "308c506ce70b43bd8099689ce80a2cc0": {
     "model_module": "@jupyter-widgets/controls",
     "model_name": "DescriptionStyleModel",
     "state": {
      "_model_module": "@jupyter-widgets/controls",
      "_model_module_version": "1.5.0",
      "_model_name": "DescriptionStyleModel",
      "_view_count": null,
      "_view_module": "@jupyter-widgets/base",
      "_view_module_version": "1.2.0",
      "_view_name": "StyleView",
      "description_width": ""
     }
    },
    "6e207a30d63845a5b6b0d25dd671953c": {
     "model_module": "@jupyter-widgets/base",
     "model_name": "LayoutModel",
     "state": {
      "_model_module": "@jupyter-widgets/base",
      "_model_module_version": "1.2.0",
      "_model_name": "LayoutModel",
      "_view_count": null,
      "_view_module": "@jupyter-widgets/base",
      "_view_module_version": "1.2.0",
      "_view_name": "LayoutView",
      "align_content": null,
      "align_items": null,
      "align_self": null,
      "border": null,
      "bottom": null,
      "display": null,
      "flex": null,
      "flex_flow": null,
      "grid_area": null,
      "grid_auto_columns": null,
      "grid_auto_flow": null,
      "grid_auto_rows": null,
      "grid_column": null,
      "grid_gap": null,
      "grid_row": null,
      "grid_template_areas": null,
      "grid_template_columns": null,
      "grid_template_rows": null,
      "height": null,
      "justify_content": null,
      "justify_items": null,
      "left": null,
      "margin": null,
      "max_height": null,
      "max_width": null,
      "min_height": null,
      "min_width": null,
      "object_fit": null,
      "object_position": null,
      "order": null,
      "overflow": null,
      "overflow_x": null,
      "overflow_y": null,
      "padding": null,
      "right": null,
      "top": null,
      "visibility": null,
      "width": null
     }
    },
    "6e5d19d58ac74a2c95c960d3e29f88bb": {
     "model_module": "@jupyter-widgets/base",
     "model_name": "LayoutModel",
     "state": {
      "_model_module": "@jupyter-widgets/base",
      "_model_module_version": "1.2.0",
      "_model_name": "LayoutModel",
      "_view_count": null,
      "_view_module": "@jupyter-widgets/base",
      "_view_module_version": "1.2.0",
      "_view_name": "LayoutView",
      "align_content": null,
      "align_items": null,
      "align_self": null,
      "border": null,
      "bottom": null,
      "display": null,
      "flex": null,
      "flex_flow": null,
      "grid_area": null,
      "grid_auto_columns": null,
      "grid_auto_flow": null,
      "grid_auto_rows": null,
      "grid_column": null,
      "grid_gap": null,
      "grid_row": null,
      "grid_template_areas": null,
      "grid_template_columns": null,
      "grid_template_rows": null,
      "height": null,
      "justify_content": null,
      "justify_items": null,
      "left": null,
      "margin": null,
      "max_height": null,
      "max_width": null,
      "min_height": null,
      "min_width": null,
      "object_fit": null,
      "object_position": null,
      "order": null,
      "overflow": null,
      "overflow_x": null,
      "overflow_y": null,
      "padding": null,
      "right": null,
      "top": null,
      "visibility": null,
      "width": null
     }
    },
    "79b789365b9144179b68a03a5cc7d8cf": {
     "model_module": "@jupyter-widgets/controls",
     "model_name": "ProgressStyleModel",
     "state": {
      "_model_module": "@jupyter-widgets/controls",
      "_model_module_version": "1.5.0",
      "_model_name": "ProgressStyleModel",
      "_view_count": null,
      "_view_module": "@jupyter-widgets/base",
      "_view_module_version": "1.2.0",
      "_view_name": "StyleView",
      "bar_color": null,
      "description_width": "initial"
     }
    },
    "c8bed6f8651c4c95ad9ad8da3117d81f": {
     "model_module": "@jupyter-widgets/controls",
     "model_name": "FloatProgressModel",
     "state": {
      "_dom_classes": [],
      "_model_module": "@jupyter-widgets/controls",
      "_model_module_version": "1.5.0",
      "_model_name": "FloatProgressModel",
      "_view_count": null,
      "_view_module": "@jupyter-widgets/controls",
      "_view_module_version": "1.5.0",
      "_view_name": "ProgressView",
      "bar_style": "success",
      "description": "100%",
      "description_tooltip": null,
      "layout": "IPY_MODEL_6e5d19d58ac74a2c95c960d3e29f88bb",
      "max": 553433881,
      "min": 0,
      "orientation": "horizontal",
      "style": "IPY_MODEL_79b789365b9144179b68a03a5cc7d8cf",
      "value": 553433881
     }
    },
    "d43780c80e5f46d4a8bf01fe718add68": {
     "model_module": "@jupyter-widgets/base",
     "model_name": "LayoutModel",
     "state": {
      "_model_module": "@jupyter-widgets/base",
      "_model_module_version": "1.2.0",
      "_model_name": "LayoutModel",
      "_view_count": null,
      "_view_module": "@jupyter-widgets/base",
      "_view_module_version": "1.2.0",
      "_view_name": "LayoutView",
      "align_content": null,
      "align_items": null,
      "align_self": null,
      "border": null,
      "bottom": null,
      "display": null,
      "flex": null,
      "flex_flow": null,
      "grid_area": null,
      "grid_auto_columns": null,
      "grid_auto_flow": null,
      "grid_auto_rows": null,
      "grid_column": null,
      "grid_gap": null,
      "grid_row": null,
      "grid_template_areas": null,
      "grid_template_columns": null,
      "grid_template_rows": null,
      "height": null,
      "justify_content": null,
      "justify_items": null,
      "left": null,
      "margin": null,
      "max_height": null,
      "max_width": null,
      "min_height": null,
      "min_width": null,
      "object_fit": null,
      "object_position": null,
      "order": null,
      "overflow": null,
      "overflow_x": null,
      "overflow_y": null,
      "padding": null,
      "right": null,
      "top": null,
      "visibility": null,
      "width": null
     }
    },
    "fd805936697746f49550fc624c2c4fcd": {
     "model_module": "@jupyter-widgets/controls",
     "model_name": "HBoxModel",
     "state": {
      "_dom_classes": [],
      "_model_module": "@jupyter-widgets/controls",
      "_model_module_version": "1.5.0",
      "_model_name": "HBoxModel",
      "_view_count": null,
      "_view_module": "@jupyter-widgets/controls",
      "_view_module_version": "1.5.0",
      "_view_name": "HBoxView",
      "box_style": "",
      "children": [
       "IPY_MODEL_c8bed6f8651c4c95ad9ad8da3117d81f",
       "IPY_MODEL_2dd17633bd9849deadbe8de0f449f416"
      ],
      "layout": "IPY_MODEL_6e207a30d63845a5b6b0d25dd671953c"
     }
    }
   }
  }
 },
 "nbformat": 4,
 "nbformat_minor": 1
}
