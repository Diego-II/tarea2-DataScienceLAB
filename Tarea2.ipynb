{
 "cells": [
  {
   "cell_type": "markdown",
   "metadata": {},
   "source": [
    "# Tarea 2\n",
    "## Laboratorio de Datos"
   ]
  },
  {
   "cell_type": "code",
   "execution_count": 19,
   "metadata": {},
   "outputs": [],
   "source": [
    "# librerías usadas\n",
    "import torch\n",
    "import torchvision.datasets as datasets\n",
    "import torchvision.transforms as transforms\n",
    "from torch.utils.data import DataLoader\n",
    "from PIL import Image\n",
    "import numpy as np"
   ]
  },
  {
   "cell_type": "markdown",
   "metadata": {},
   "source": [
    "# 1 Carga y transformación de Datos"
   ]
  },
  {
   "cell_type": "code",
   "execution_count": 23,
   "metadata": {},
   "outputs": [],
   "source": [
    "# 1\n",
    "# iniciar datos\n",
    "def load(path):\n",
    "    image_rgb =Image.open(path).convert(\"RGB\")\n",
    "    return image_rgb\n",
    "\n",
    "div= np.iinfo('uint8').max # maximo valor de tipo uint8\n",
    "transformer=transforms.Compose(\n",
    "                [transforms.Resize([224,224]),\n",
    "                 transforms.ToTensor(),\n",
    "                 transforms.RandomHorizontalFlip(),\n",
    "                 transforms.RandomRotation(degrees=20),\n",
    "                 transforms.ColorJitter(brightness=[1.2, 1.5])\n",
    "                ])\n",
    "    \n",
    "data_train1=datasets.DatasetFolder(root='chest_xray/train',loader=load,transform=transformer, extensions='jpeg')\n",
    "data_test1=datasets.DatasetFolder(root='chest_xray/test',loader=load,transform=transformer, extensions='jpeg')\n",
    "\n",
    "bs=64\n",
    "data_train=DataLoader(data_train1, batch_size=bs,shuffle=True)\n",
    "data_test=DataLoader(data_test1, batch_size= bs* 2)\n"
   ]
  },
  {
   "cell_type": "code",
   "execution_count": null,
   "metadata": {},
   "outputs": [],
   "source": [
    "\"\"\"\n",
    "To Do : \n",
    "\n",
    "Perfilamiento de tiempo de cómputo \n",
    "\n",
    "Comparación de las librerias pytorch PIL skimage opencv\n",
    "\n",
    "\"\"\""
   ]
  },
  {
   "cell_type": "code",
   "execution_count": 25,
   "metadata": {},
   "outputs": [
    {
     "name": "stdout",
     "output_type": "stream",
     "text": [
      "Dataset DatasetFolder\n",
      "    Number of datapoints: 5232\n",
      "    Root location: chest_xray/train\n",
      "    StandardTransform\n",
      "Transform: Compose(\n",
      "               Resize(size=[224, 224], interpolation=PIL.Image.BILINEAR)\n",
      "               ToTensor()\n",
      "               RandomHorizontalFlip(p=0.5)\n",
      "               RandomRotation(degrees=(-20, 20), resample=False, expand=False)\n",
      "               ColorJitter(brightness=[1.2, 1.5], contrast=None, saturation=None, hue=None)\n",
      "           )\n",
      "Dataset DatasetFolder\n",
      "    Number of datapoints: 624\n",
      "    Root location: chest_xray/test\n",
      "    StandardTransform\n",
      "Transform: Compose(\n",
      "               Resize(size=[224, 224], interpolation=PIL.Image.BILINEAR)\n",
      "               ToTensor()\n",
      "               RandomHorizontalFlip(p=0.5)\n",
      "               RandomRotation(degrees=(-20, 20), resample=False, expand=False)\n",
      "               ColorJitter(brightness=[1.2, 1.5], contrast=None, saturation=None, hue=None)\n",
      "           )\n"
     ]
    }
   ],
   "source": [
    "# 2\n",
    "print(data_train1)\n",
    "print(data_test1)"
   ]
  },
  {
   "cell_type": "code",
   "execution_count": null,
   "metadata": {},
   "outputs": [],
   "source": []
  }
 ],
 "metadata": {
  "kernelspec": {
   "display_name": "Python 3",
   "language": "python",
   "name": "python3"
  },
  "language_info": {
   "codemirror_mode": {
    "name": "ipython",
    "version": 3
   },
   "file_extension": ".py",
   "mimetype": "text/x-python",
   "name": "python",
   "nbconvert_exporter": "python",
   "pygments_lexer": "ipython3",
   "version": "3.7.3"
  }
 },
 "nbformat": 4,
 "nbformat_minor": 2
}
