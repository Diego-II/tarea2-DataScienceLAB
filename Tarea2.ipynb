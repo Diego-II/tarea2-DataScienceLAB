{
 "cells": [
  {
   "cell_type": "markdown",
   "metadata": {},
   "source": [
    "# Tarea 2\n",
    "## Laboratorio de Datos"
   ]
  },
  {
   "cell_type": "code",
   "execution_count": 1,
   "metadata": {},
   "outputs": [],
   "source": [
    "# librerías usadas\n",
    "import torch\n",
    "import torchvision.datasets as datasets\n",
    "import torchvision.transforms as transforms\n",
    "from torch.utils.data import DataLoader\n",
    "from PIL import Image\n",
    "import numpy as np"
   ]
  },
  {
   "cell_type": "markdown",
   "metadata": {},
   "source": [
    "# 1 Carga y transformación de Datos"
   ]
  },
  {
   "cell_type": "code",
   "execution_count": 6,
   "metadata": {},
   "outputs": [],
   "source": [
    "# 1\n",
    "# iniciar datos\n",
    "def load(path):\n",
    "    image_rgb =np.asarray(Image.open(path).convert(\"RGB\"))\n",
    "    return image_rgb\n",
    "\n",
    "div= np.iinfo('uint8').max # maximo valor de tipo uint8\n",
    "transformer=transforms.Compose(\n",
    "                [transforms.Resize([224,224]),\n",
    "                 transforms.ToTensor(),\n",
    "                 transforms.RandomHorizontalFlip(),\n",
    "                 transforms.RandomRotation(degrees=20),\n",
    "                 transforms.ColorJitter(brightness=[1.2, 1.5])\n",
    "                ])\n",
    "    \n",
    "data_train1=datasets.DatasetFolder(root='chest_xray/train',loader=load,transform=transformer, extensions='jpeg')\n",
    "data_test1=datasets.DatasetFolder(root='chest_xray/test',loader=load,transform=transformer, extensions='jpeg')\n",
    "\n",
    "bs=64\n",
    "data_train=DataLoader(data_train1, batch_size=bs,shuffle=True)\n",
    "data_test=DataLoader(data_test1, batch_size= bs* 2)\n"
   ]
  },
  {
   "cell_type": "code",
   "execution_count": 18,
   "metadata": {},
   "outputs": [
    {
     "data": {
      "text/plain": [
       "Compose(\n",
       "    Resize(size=[224, 224], interpolation=PIL.Image.BILINEAR)\n",
       "    ToTensor()\n",
       "    RandomHorizontalFlip(p=0.5)\n",
       "    RandomRotation(degrees=(-20, 20), resample=False, expand=False)\n",
       "    ColorJitter(brightness=[1.2, 1.5], contrast=None, saturation=None, hue=None)\n",
       ")"
      ]
     },
     "execution_count": 18,
     "metadata": {},
     "output_type": "execute_result"
    }
   ],
   "source": [
    "data_train1.transform"
   ]
  },
  {
   "cell_type": "code",
   "execution_count": 3,
   "metadata": {},
   "outputs": [
    {
     "data": {
      "text/plain": [
       "'\\nTo Do : \\n\\nPerfilamiento de tiempo de cómputo \\n\\nComparación de las librerias pytorch PIL skimage opencv\\n\\n'"
      ]
     },
     "execution_count": 3,
     "metadata": {},
     "output_type": "execute_result"
    }
   ],
   "source": [
    "\"\"\"\n",
    "To Do : \n",
    "\n",
    "Perfilamiento de tiempo de cómputo \n",
    "\n",
    "Comparación de las librerias pytorch PIL skimage opencv\n",
    "\n",
    "\"\"\""
   ]
  },
  {
   "cell_type": "code",
   "execution_count": 7,
   "metadata": {},
   "outputs": [
    {
     "ename": "IndentationError",
     "evalue": "expected an indented block (<ipython-input-7-28aeeb206459>, line 8)",
     "output_type": "error",
     "traceback": [
      "\u001b[0;36m  File \u001b[0;32m\"<ipython-input-7-28aeeb206459>\"\u001b[0;36m, line \u001b[0;32m8\u001b[0m\n\u001b[0;31m    def __iter__(self):\u001b[0m\n\u001b[0m      ^\u001b[0m\n\u001b[0;31mIndentationError\u001b[0m\u001b[0;31m:\u001b[0m expected an indented block\n"
     ]
    }
   ],
   "source": [
    "# 2\n",
    "\n",
    "class ReplicarMuestreoDePrueba(torch.utils.data.Sample):\n",
    "    \n",
    "    def __init__(self,etiquetas_prueba,indices_val_etiquetas_val):\n",
    "        \n",
    "    def __iter__(self):\n",
    "        # iterador"
   ]
  },
  {
   "cell_type": "code",
   "execution_count": null,
   "metadata": {},
   "outputs": [],
   "source": []
  }
 ],
 "metadata": {
  "kernelspec": {
   "display_name": "Python 3",
   "language": "python",
   "name": "python3"
  },
  "language_info": {
   "codemirror_mode": {
    "name": "ipython",
    "version": 3
   },
   "file_extension": ".py",
   "mimetype": "text/x-python",
   "name": "python",
   "nbconvert_exporter": "python",
   "pygments_lexer": "ipython3",
   "version": "3.7.3"
  }
 },
 "nbformat": 4,
 "nbformat_minor": 2
}
