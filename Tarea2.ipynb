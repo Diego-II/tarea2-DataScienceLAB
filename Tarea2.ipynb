{
  "nbformat": 4,
  "nbformat_minor": 0,
  "metadata": {
    "colab": {
      "name": "Tarea2_V3",
      "provenance": [],
      "collapsed_sections": []
    },
    "kernelspec": {
      "name": "python3",
      "display_name": "Python 3"
    },
    "accelerator": "GPU"
  },
  "cells": [
    {
      "cell_type": "markdown",
      "metadata": {
        "id": "Pq9hTddORkUY",
        "colab_type": "text"
      },
      "source": [
        "# 1. Carga de datos y librerias a usar."
      ]
    },
    {
      "cell_type": "code",
      "metadata": {
        "id": "CWfEI8Oxnv6j",
        "colab_type": "code",
        "colab": {
          "base_uri": "https://localhost:8080/",
          "height": 33
        },
        "outputId": "3117e5b3-a240-4664-dd09-042d7238fde8"
      },
      "source": [
        "#Estas lineas corren solo en google colab:\n",
        "import os.path \n",
        "try:\n",
        "  import google.colab\n",
        "  IN_COLAB = True\n",
        "except:\n",
        "  IN_COLAB = False\n",
        "if IN_COLAB:\n",
        "  if os.path.exists('/content/ChestXRay2017.zip'):\n",
        "    print(\"Datos ya descargados\")\n",
        "  else:\n",
        "    !wget https://data.mendeley.com/datasets/rscbjbr9sj/2/files/f12eaf6d-6023-432f-acc9-80c9d7393433/ChestXRay2017.zip\n",
        "    !unzip /content/ChestXRay2017.zip\n",
        "    !pip install gpustat"
      ],
      "execution_count": 1,
      "outputs": [
        {
          "output_type": "stream",
          "text": [
            "Datos ya descargados\n"
          ],
          "name": "stdout"
        }
      ]
    },
    {
      "cell_type": "code",
      "metadata": {
        "id": "mfoNboyIolBF",
        "colab_type": "code",
        "colab": {}
      },
      "source": [
        "import torch\n",
        "import torchvision\n",
        "from torchvision.datasets.folder import default_loader\n",
        "\n",
        "# Intento de usar el train_model de https://pytorch.org/tutorials/beginner/transfer_learning_tutorial.html\n",
        "from __future__ import print_function, division\n",
        "\n",
        "import torch\n",
        "import torch.nn as nn\n",
        "import torch.optim as optim\n",
        "from torch.optim import lr_scheduler\n",
        "import numpy as np\n",
        "import torchvision\n",
        "#from torchvision.transforms.functional import convert_image_dtype\n",
        "from torchvision import datasets, models, transforms\n",
        "import matplotlib.pyplot as plt\n",
        "import time\n",
        "import os\n",
        "import copy\n",
        "from torchsummary import summary\n"
      ],
      "execution_count": 2,
      "outputs": []
    },
    {
      "cell_type": "code",
      "metadata": {
        "id": "SR3_62kTskvH",
        "colab_type": "code",
        "colab": {}
      },
      "source": [
        "# Torchvision transforms compose para carga de datos con transformacion:\n",
        "\n",
        "degrees = (-20,20)\n",
        "transformer = torchvision.transforms.Compose([        \n",
        "    torchvision.transforms.Resize(size = (224,224)),\n",
        "    torchvision.transforms.RandomHorizontalFlip(p=0.5),\n",
        "    torchvision.transforms.RandomRotation(degrees),\n",
        "    torchvision.transforms.ColorJitter(brightness=[1.2, 1.5]),\n",
        "    torchvision.transforms.ToTensor(), \n",
        "    ])"
      ],
      "execution_count": 3,
      "outputs": []
    },
    {
      "cell_type": "code",
      "metadata": {
        "id": "iCrYK4I2SI8o",
        "colab_type": "code",
        "colab": {}
      },
      "source": [
        "# Usamos el loader por defecto de ImageFolder\n",
        "# Deja las imagenes con 3 capas\n",
        "from torchvision.datasets.folder import default_loader\n",
        "    \n",
        "import google.colab\n",
        "import os.path \n",
        "root = '/content/chest_xray/train/'\n",
        "train_dir = '/content/chest_xray/train/'\n",
        "test_dir = '/content/chest_xray/test/'\n",
        "\n",
        "data_train1=datasets.DatasetFolder(root = train_dir, loader =  default_loader, transform = transformer, extensions = 'jpeg')\n",
        "data_test1=datasets.DatasetFolder(root = test_dir, loader = default_loader, transform = transformer, extensions = 'jpeg')"
      ],
      "execution_count": 4,
      "outputs": []
    },
    {
      "cell_type": "code",
      "metadata": {
        "id": "OzpzG5SB7_An",
        "colab_type": "code",
        "colab": {}
      },
      "source": [
        "# 3\n",
        "from sklearn.model_selection import train_test_split\n",
        "from torch.utils.data import Subset\n",
        "from torch.utils.data.sampler import RandomSampler, SubsetRandomSampler\n",
        "from torch.utils.data import DataLoader\n",
        "\n",
        "# split\n",
        "train_idx, val_idx = train_test_split(list(range(len(data_train1))),test_size=0.2)\n",
        "class ReplicarMuestreoDePrueba(torch.utils.data.Sampler):\n",
        "  def __init__(self,etiquetas_prueba, indices_val, etiquetas_val):\n",
        "    self.indices_val      = indices_val\n",
        "    self.prob_pneumonia   = sum(etiquetas_prueba)/len(etiquetas_prueba)\n",
        "    self.prob_normal      = 1-self.prob_pneumonia\n",
        "    self.prob_vector      = (np.array(etiquetas_val)==1)*self.prob_pneumonia+(np.array(etiquetas_val)==0)*self.prob_normal\n",
        "    self.prob_vector = self.prob_vector*(1/sum(self.prob_vector))\n",
        "  def __iter__(self):\n",
        "    return iter(np.random.choice(self.indices_val,size=len(self.indices_val),p=self.prob_vector))\n",
        "  def __len__(self):\n",
        "    return len(self.indices_val)\n",
        "\n",
        "etiquetas_prueba = data_test1.targets\n",
        "etiquetas_val = [data_train1.targets[i] for i in val_idx ]"
      ],
      "execution_count": 5,
      "outputs": []
    },
    {
      "cell_type": "code",
      "metadata": {
        "id": "4ciYAMCOSZRx",
        "colab_type": "code",
        "colab": {}
      },
      "source": [
        "data_test  = DataLoader(data_test1,sampler=RandomSampler(data_test1))"
      ],
      "execution_count": 6,
      "outputs": []
    },
    {
      "cell_type": "code",
      "metadata": {
        "id": "9V5TCHhPiEJz",
        "colab_type": "code",
        "colab": {}
      },
      "source": [
        "data_dir = '/content/chest_xray'\n",
        "bs = 16\n",
        "\n",
        "dataloaders = {\n",
        "    'train' : DataLoader(data_train1, \n",
        "                         sampler = SubsetRandomSampler(train_idx), \n",
        "                         batch_size = bs,\n",
        "                         num_workers=4\n",
        "                         ),\n",
        "    'val' : DataLoader(data_train1,\n",
        "                       sampler = ReplicarMuestreoDePrueba(etiquetas_prueba,val_idx, etiquetas_val),\n",
        "                       #sampler = SubsetRandomSampler(val_idx),\n",
        "                       batch_size = bs,\n",
        "                       num_workers=4\n",
        "                       )\n",
        "}\n",
        "\n",
        "device = torch.device(\"cuda:0\" if torch.cuda.is_available() else \"cpu\")"
      ],
      "execution_count": 7,
      "outputs": []
    },
    {
      "cell_type": "markdown",
      "metadata": {
        "id": "YkUch_CXTM5D",
        "colab_type": "text"
      },
      "source": [
        "# 2. Red VGG16DWSep."
      ]
    },
    {
      "cell_type": "code",
      "metadata": {
        "id": "slduMCm4TuGX",
        "colab_type": "code",
        "colab": {
          "base_uri": "https://localhost:8080/",
          "height": 33
        },
        "outputId": "4efe7da8-6664-4cd9-a450-8747f7636e94"
      },
      "source": [
        "import torch\n",
        "import torch.nn as nn\n",
        "import torch.nn.functional as F\n",
        "\n",
        "torch.manual_seed(2020)"
      ],
      "execution_count": 8,
      "outputs": [
        {
          "output_type": "execute_result",
          "data": {
            "text/plain": [
              "<torch._C.Generator at 0x7f67d411e5d0>"
            ]
          },
          "metadata": {
            "tags": []
          },
          "execution_count": 8
        }
      ]
    },
    {
      "cell_type": "code",
      "metadata": {
        "id": "CxHrOK5h7_A2",
        "colab_type": "code",
        "colab": {}
      },
      "source": [
        "class DWSepConv2d(nn.Module):\n",
        "    \n",
        "    def __init__(self,in_channels, out_channels, kernel_size,padding,bias=True):\n",
        "        super().__init__()\n",
        "        self.conv1 = nn.Conv2d(in_channels, in_channels,kernel_size,padding=padding,bias=bias)\n",
        "        self.conv2 = nn.Conv2d(in_channels, out_channels,kernel_size=1,padding=padding,bias=bias)\n",
        "    def forward(self,xb):\n",
        "        xb = F.relu(self.conv1(xb.float()))\n",
        "        xb = F.relu(self.conv2(xb)) \n",
        "        return xb"
      ],
      "execution_count": 9,
      "outputs": []
    },
    {
      "cell_type": "code",
      "metadata": {
        "id": "rtSek5x67_A6",
        "colab_type": "code",
        "colab": {}
      },
      "source": [
        "class VGG16DWSep(nn.Module):\n",
        "    \n",
        "    def __init__(self,in_channels):\n",
        "        super().__init__()\n",
        "        # bloque 1\n",
        "        self.conv1 = nn.Conv2d(in_channels,64,kernel_size=3,padding=1,stride=1)\n",
        "        self.conv2 = nn.Conv2d(64,64,kernel_size=3, padding=1, stride=1)\n",
        "        self.maxpool1 = nn.MaxPool2d(kernel_size=2,stride=2) \n",
        "        # bloque 2\n",
        "        self.dwconv3 = DWSepConv2d(64,128,kernel_size=3,padding=1)\n",
        "        self.dwconv4 = DWSepConv2d(128,128,kernel_size=3,padding=1)\n",
        "        self.maxpool2 = nn.MaxPool2d(kernel_size=2,stride=2)\n",
        "        # bloque 3        \n",
        "        self.dwconv5 = DWSepConv2d(128,256,kernel_size=3,padding=1)\n",
        "        self.batchnorm1 = nn.BatchNorm2d(256)\n",
        "        # bloque 4\n",
        "        self.dwconv6 = DWSepConv2d(256,256,kernel_size=3,padding=1)\n",
        "        self.batchnorm2 = nn.BatchNorm2d(256)\n",
        "        # bloque 5\n",
        "        self.dwconv7 = DWSepConv2d(256,256,kernel_size=3,padding=1)\n",
        "        self.maxpool3 = nn.MaxPool2d(kernel_size=2,stride=2)\n",
        "        # bloque 6\n",
        "        self.dwconv8 = DWSepConv2d(256,512,kernel_size=3,padding=1)\n",
        "        self.batchnorm3 = nn.BatchNorm2d(512)\n",
        "        # bloque 7\n",
        "        self.dwconv9 = DWSepConv2d(512,512,kernel_size=3,padding=1)\n",
        "        self.batchnorm4 = nn.BatchNorm2d(512)\n",
        "        # bloque 8\n",
        "        self.dwconv10 = DWSepConv2d(512,512,kernel_size=3,padding=1)\n",
        "        self.maxpool4 = nn.MaxPool2d(kernel_size=2,stride=2)\n",
        "        # bloque o1\n",
        "        self.flatten1 = nn.Flatten()\n",
        "        self.lin1 = nn.Linear(184832,1024)\n",
        "        self.drop1 = nn.Dropout(.7)\n",
        "        # bloque o2\n",
        "        self.lin2 = nn.Linear(1024,512)\n",
        "        self.drop2 = nn.Dropout(.5)\n",
        "        self.lin3 = nn.Linear(512,2)\n",
        "    \n",
        "    def forward(self,xb):\n",
        "      # bloque 1\n",
        "      xb = xb.view(-1, 3, 224, 224)\n",
        "      xb = F.relu(self.conv1(xb))\n",
        "      xb = F.relu(self.conv2(xb))\n",
        "      xb = self.maxpool1(xb)\n",
        "      # bloque 2\n",
        "      xb = F.relu(self.dwconv3(xb))\n",
        "      xb = F.relu(self.dwconv4(xb))\n",
        "      xb = self.maxpool2(xb)\n",
        "      # bloque 3\n",
        "      xb = F.relu(self.dwconv5(xb))\n",
        "      xb = F.relu(self.batchnorm1(xb))\n",
        "      # bloque 4\n",
        "      xb = F.relu(self.dwconv6(xb))\n",
        "      xb = F.relu(self.batchnorm2(xb))\n",
        "      # bloque 5\n",
        "      xb = F.relu(self.dwconv7(xb))\n",
        "      xb = self.maxpool3(xb)\n",
        "      # bloque 6\n",
        "      xb = F.relu(self.dwconv8(xb))\n",
        "      xb = F.relu(self.batchnorm3(xb))\n",
        "      # bloque 7\n",
        "      xb = F.relu(self.dwconv9(xb))\n",
        "      xb = F.relu(self.batchnorm4(xb))\n",
        "      # bloque 8\n",
        "      xb = F.relu(self.dwconv10(xb))\n",
        "      xb = self.maxpool4(xb)\n",
        "      #print(xb.shape)\n",
        "      # bloque o1\n",
        "      xb = self.flatten1(xb)\n",
        "      xb = F.relu(self.lin1(xb))\n",
        "      xb = self.drop1(xb)\n",
        "      # bloque o2\n",
        "      xb = F.relu(self.lin2(xb))\n",
        "      xb = self.drop2(xb)\n",
        "      xb = F.relu(self.lin3(xb))\n",
        "      return xb.view(-1, xb.size(1))"
      ],
      "execution_count": 10,
      "outputs": []
    },
    {
      "cell_type": "markdown",
      "metadata": {
        "id": "8f4uQ-0MT6WF",
        "colab_type": "text"
      },
      "source": [
        "## Importar red VGG16 ya entrenada para transferir pesos:"
      ]
    },
    {
      "cell_type": "code",
      "metadata": {
        "tags": [],
        "id": "gN9I9dKK7_A-",
        "colab_type": "code",
        "colab": {
          "base_uri": "https://localhost:8080/",
          "height": 883
        },
        "outputId": "0ae53332-66c6-4ea3-fd90-45a3ea1e0a90"
      },
      "source": [
        "# Descargamos la red vgg16\n",
        "try: \n",
        "  summary(vgg16.cuda(),(3,224,244))\n",
        "except:\n",
        "  vgg16 = torchvision.models.vgg16(pretrained=True, progress=True)\n",
        "  summary(vgg16.cuda(),(3,224,244))\n",
        "\n",
        "# Congelamos los pesos de la red VGG16:\n",
        "for param in vgg16.parameters():\n",
        "  param.requires_grad = False"
      ],
      "execution_count": 11,
      "outputs": [
        {
          "output_type": "stream",
          "text": [
            "----------------------------------------------------------------\n",
            "        Layer (type)               Output Shape         Param #\n",
            "================================================================\n",
            "            Conv2d-1         [-1, 64, 224, 244]           1,792\n",
            "              ReLU-2         [-1, 64, 224, 244]               0\n",
            "            Conv2d-3         [-1, 64, 224, 244]          36,928\n",
            "              ReLU-4         [-1, 64, 224, 244]               0\n",
            "         MaxPool2d-5         [-1, 64, 112, 122]               0\n",
            "            Conv2d-6        [-1, 128, 112, 122]          73,856\n",
            "              ReLU-7        [-1, 128, 112, 122]               0\n",
            "            Conv2d-8        [-1, 128, 112, 122]         147,584\n",
            "              ReLU-9        [-1, 128, 112, 122]               0\n",
            "        MaxPool2d-10          [-1, 128, 56, 61]               0\n",
            "           Conv2d-11          [-1, 256, 56, 61]         295,168\n",
            "             ReLU-12          [-1, 256, 56, 61]               0\n",
            "           Conv2d-13          [-1, 256, 56, 61]         590,080\n",
            "             ReLU-14          [-1, 256, 56, 61]               0\n",
            "           Conv2d-15          [-1, 256, 56, 61]         590,080\n",
            "             ReLU-16          [-1, 256, 56, 61]               0\n",
            "        MaxPool2d-17          [-1, 256, 28, 30]               0\n",
            "           Conv2d-18          [-1, 512, 28, 30]       1,180,160\n",
            "             ReLU-19          [-1, 512, 28, 30]               0\n",
            "           Conv2d-20          [-1, 512, 28, 30]       2,359,808\n",
            "             ReLU-21          [-1, 512, 28, 30]               0\n",
            "           Conv2d-22          [-1, 512, 28, 30]       2,359,808\n",
            "             ReLU-23          [-1, 512, 28, 30]               0\n",
            "        MaxPool2d-24          [-1, 512, 14, 15]               0\n",
            "           Conv2d-25          [-1, 512, 14, 15]       2,359,808\n",
            "             ReLU-26          [-1, 512, 14, 15]               0\n",
            "           Conv2d-27          [-1, 512, 14, 15]       2,359,808\n",
            "             ReLU-28          [-1, 512, 14, 15]               0\n",
            "           Conv2d-29          [-1, 512, 14, 15]       2,359,808\n",
            "             ReLU-30          [-1, 512, 14, 15]               0\n",
            "        MaxPool2d-31            [-1, 512, 7, 7]               0\n",
            "AdaptiveAvgPool2d-32            [-1, 512, 7, 7]               0\n",
            "           Linear-33                 [-1, 4096]     102,764,544\n",
            "             ReLU-34                 [-1, 4096]               0\n",
            "          Dropout-35                 [-1, 4096]               0\n",
            "           Linear-36                 [-1, 4096]      16,781,312\n",
            "             ReLU-37                 [-1, 4096]               0\n",
            "          Dropout-38                 [-1, 4096]               0\n",
            "           Linear-39                 [-1, 1000]       4,097,000\n",
            "================================================================\n",
            "Total params: 138,357,544\n",
            "Trainable params: 138,357,544\n",
            "Non-trainable params: 0\n",
            "----------------------------------------------------------------\n",
            "Input size (MB): 0.63\n",
            "Forward/backward pass size (MB): 237.81\n",
            "Params size (MB): 527.79\n",
            "Estimated Total Size (MB): 766.23\n",
            "----------------------------------------------------------------\n"
          ],
          "name": "stdout"
        }
      ]
    },
    {
      "cell_type": "code",
      "metadata": {
        "id": "qUbCizC5T36s",
        "colab_type": "code",
        "colab": {}
      },
      "source": [
        "# Se quiere la capa 0 y la 2, que son las dos primeras convolucionales:\n",
        "pesos_dict = {\n",
        "    'conv1' : vgg16.features[0],\n",
        "    'conv2' : vgg16.features[2]\n",
        "}"
      ],
      "execution_count": 12,
      "outputs": []
    },
    {
      "cell_type": "code",
      "metadata": {
        "id": "ntEcjPB7UQhW",
        "colab_type": "code",
        "colab": {}
      },
      "source": [
        "# Instanciamos una reg VGG16DWSep:\n",
        "model = VGG16DWSep(in_channels = 3)"
      ],
      "execution_count": 13,
      "outputs": []
    },
    {
      "cell_type": "code",
      "metadata": {
        "id": "7f0DTbuDUZmB",
        "colab_type": "code",
        "colab": {}
      },
      "source": [
        "# Transferencia de pesos:\n",
        "model.conv1.weight = pesos_dict['conv1'].weight\n",
        "model.conv2.weight = pesos_dict['conv2'].weight"
      ],
      "execution_count": 14,
      "outputs": []
    },
    {
      "cell_type": "code",
      "metadata": {
        "id": "0IS7g5P3Uwzp",
        "colab_type": "code",
        "colab": {}
      },
      "source": [
        "# Congelamos los pesos transferidos en la red instanciada:\n",
        "model.conv1.requires_grad_ = False\n",
        "model.conv2.requires_grad_ = False"
      ],
      "execution_count": 15,
      "outputs": []
    },
    {
      "cell_type": "code",
      "metadata": {
        "id": "x_b5cB1ezmiX",
        "colab_type": "code",
        "colab": {
          "base_uri": "https://localhost:8080/",
          "height": 900
        },
        "outputId": "ae64e0c3-c1e6-4d18-9f72-627de8358dc2"
      },
      "source": [
        "summary(model.cuda(), (3, 224,224))"
      ],
      "execution_count": 16,
      "outputs": [
        {
          "output_type": "stream",
          "text": [
            "----------------------------------------------------------------\n",
            "        Layer (type)               Output Shape         Param #\n",
            "================================================================\n",
            "            Conv2d-1         [-1, 64, 224, 224]           1,792\n",
            "            Conv2d-2         [-1, 64, 224, 224]          36,928\n",
            "         MaxPool2d-3         [-1, 64, 112, 112]               0\n",
            "            Conv2d-4         [-1, 64, 112, 112]          36,928\n",
            "            Conv2d-5        [-1, 128, 114, 114]           8,320\n",
            "       DWSepConv2d-6        [-1, 128, 114, 114]               0\n",
            "            Conv2d-7        [-1, 128, 114, 114]         147,584\n",
            "            Conv2d-8        [-1, 128, 116, 116]          16,512\n",
            "       DWSepConv2d-9        [-1, 128, 116, 116]               0\n",
            "        MaxPool2d-10          [-1, 128, 58, 58]               0\n",
            "           Conv2d-11          [-1, 128, 58, 58]         147,584\n",
            "           Conv2d-12          [-1, 256, 60, 60]          33,024\n",
            "      DWSepConv2d-13          [-1, 256, 60, 60]               0\n",
            "      BatchNorm2d-14          [-1, 256, 60, 60]             512\n",
            "           Conv2d-15          [-1, 256, 60, 60]         590,080\n",
            "           Conv2d-16          [-1, 256, 62, 62]          65,792\n",
            "      DWSepConv2d-17          [-1, 256, 62, 62]               0\n",
            "      BatchNorm2d-18          [-1, 256, 62, 62]             512\n",
            "           Conv2d-19          [-1, 256, 62, 62]         590,080\n",
            "           Conv2d-20          [-1, 256, 64, 64]          65,792\n",
            "      DWSepConv2d-21          [-1, 256, 64, 64]               0\n",
            "        MaxPool2d-22          [-1, 256, 32, 32]               0\n",
            "           Conv2d-23          [-1, 256, 32, 32]         590,080\n",
            "           Conv2d-24          [-1, 512, 34, 34]         131,584\n",
            "      DWSepConv2d-25          [-1, 512, 34, 34]               0\n",
            "      BatchNorm2d-26          [-1, 512, 34, 34]           1,024\n",
            "           Conv2d-27          [-1, 512, 34, 34]       2,359,808\n",
            "           Conv2d-28          [-1, 512, 36, 36]         262,656\n",
            "      DWSepConv2d-29          [-1, 512, 36, 36]               0\n",
            "      BatchNorm2d-30          [-1, 512, 36, 36]           1,024\n",
            "           Conv2d-31          [-1, 512, 36, 36]       2,359,808\n",
            "           Conv2d-32          [-1, 512, 38, 38]         262,656\n",
            "      DWSepConv2d-33          [-1, 512, 38, 38]               0\n",
            "        MaxPool2d-34          [-1, 512, 19, 19]               0\n",
            "          Flatten-35               [-1, 184832]               0\n",
            "           Linear-36                 [-1, 1024]     189,268,992\n",
            "          Dropout-37                 [-1, 1024]               0\n",
            "           Linear-38                  [-1, 512]         524,800\n",
            "          Dropout-39                  [-1, 512]               0\n",
            "           Linear-40                    [-1, 2]           1,026\n",
            "================================================================\n",
            "Total params: 197,504,898\n",
            "Trainable params: 197,466,178\n",
            "Non-trainable params: 38,720\n",
            "----------------------------------------------------------------\n",
            "Input size (MB): 0.57\n",
            "Forward/backward pass size (MB): 262.77\n",
            "Params size (MB): 753.42\n",
            "Estimated Total Size (MB): 1016.77\n",
            "----------------------------------------------------------------\n"
          ],
          "name": "stdout"
        }
      ]
    },
    {
      "cell_type": "markdown",
      "metadata": {
        "id": "ih5UVYQwVuqD",
        "colab_type": "text"
      },
      "source": [
        "## Heuristica EarlyStopping:"
      ]
    },
    {
      "cell_type": "code",
      "metadata": {
        "id": "tUdbW4DvVkfD",
        "colab_type": "code",
        "colab": {}
      },
      "source": [
        "# Clase EarlyStopping\n",
        "# Se requiere la libreria numpy!!\n",
        "import numpy  as np\n",
        "class EarlyStopping():\n",
        "  '''\n",
        "  Regularization heuristic:\n",
        "\n",
        "  '''\n",
        "  def __init__(self, modo='min', paciencia=5, porcentaje:bool = False, tol=0):\n",
        "    '''\n",
        "    Arguments:\n",
        "    ---------\n",
        "    modo: 'min' o 'max'. Si se debe minimizar o maximizar la metrica objetivo\n",
        "    paciancia: Cantidad de epocas en la que la metrica puede empeorar\n",
        "    porcentaje: si la diferencia es relativa (true) o absoluta\n",
        "    tol: diferencia minima que debe existir con respecto la mejor metrica ya\n",
        "        observada  para considerar si existe un empeoramiento del desempeno\n",
        "    '''\n",
        "    self.modo = modo\n",
        "    self.paciencia  = paciencia\n",
        "    self.porcentaje = porcentaje\n",
        "    self.best = np.Inf if self.modo == 'min' else -np.Inf\n",
        "    self.contador = 0\n",
        "    self.tol = tol\n",
        "\n",
        "  \n",
        "  def __compareMin(self, metrica_validacion):\n",
        "    if self.porcentaje:      \n",
        "      # Si la dif relativa es mayor a la tolerada: actualizar contador:\n",
        "      if metrica_validacion < (1-self.tol)*self.best:\n",
        "        self.contador = 0\n",
        "        self.best = metrica_validacion\n",
        "        return True\n",
        "      else:\n",
        "        self.contador +=1\n",
        "        return False\n",
        "    else:\n",
        "      if metrica_validacion < self.best - self.tol:\n",
        "        self.best = metrica_validacion\n",
        "        self.contador = 0\n",
        "        return True\n",
        "      else:\n",
        "        self.contador += 1\n",
        "        return False\n",
        "    \n",
        "  def __compareMax(self, metrica_validacion):\n",
        "    if self.porcentaje:\n",
        "        # Si la dif relativa es mayor a la tolerada: actualizar contador:\n",
        "      if metrica_validacion > (1+self.tol)*self.best:\n",
        "        self.contador = 0\n",
        "        self.best = metrica_validacion\n",
        "        return True\n",
        "      else:\n",
        "        self.contador +=1\n",
        "        return False\n",
        "    else:\n",
        "      if metrica_validacion > self.best + self.tol:\n",
        "        self.best = metrica_validacion\n",
        "        self.contador = 0\n",
        "        return True\n",
        "      else:\n",
        "        self.contador += 1\n",
        "        return False        \n",
        "\n",
        "  def __mejor(self, metrica_validacion):\n",
        "    '''\n",
        "    Compara @metrica_validacion con la mejor ya observada segun las \n",
        "    especificaciones de porcentaje y modo. \n",
        "    '''\n",
        "    if self.modo == 'min':\n",
        "      # Comparar segun el modo y porcentaje:\n",
        "      if self.__compareMin(metrica_validacion):\n",
        "        return True\n",
        "      else:\n",
        "        return False\n",
        "    else:\n",
        "      # Comparar segun el modo y porcentaje:\n",
        "      if self.__compareMax(metrica_validacion):\n",
        "        return True\n",
        "      else:\n",
        "        return False\n",
        "\n",
        "  #@classmethod\n",
        "  def deberia_parar(self, metrica_validacion):\n",
        "    if not self.__mejor(metrica_validacion) and self.contador >= self.paciencia:\n",
        "      return True\n",
        "    else:\n",
        "      return False\n"
      ],
      "execution_count": 17,
      "outputs": []
    },
    {
      "cell_type": "markdown",
      "metadata": {
        "id": "xMLp_hClV9VC",
        "colab_type": "text"
      },
      "source": [
        "## Train model: \n",
        "Basado en metodo fit implementado en los notebooks de catedra:"
      ]
    },
    {
      "cell_type": "code",
      "metadata": {
        "id": "3teBgTyCqDVn",
        "colab_type": "code",
        "colab": {}
      },
      "source": [
        "def loss_batch(model, loss_func, xb, yb, opt=None):\n",
        "    loss = loss_func(model(xb), yb)\n",
        "\n",
        "    if opt is not None:\n",
        "        loss.backward()\n",
        "        opt.step()\n",
        "        opt.zero_grad()\n",
        "\n",
        "    return loss.item(), len(xb)"
      ],
      "execution_count": 18,
      "outputs": []
    },
    {
      "cell_type": "code",
      "metadata": {
        "id": "nYW8cZDcP8sA",
        "colab_type": "code",
        "colab": {}
      },
      "source": [
        "import numpy as np \n",
        "\n",
        "def register(res_list):\n",
        "    '''Obtiene la perdida promedio y su desviacion estandar en batches.'''\n",
        "    \n",
        "    losses, nums = zip(*res_list)\n",
        "    \n",
        "    N = np.sum(nums)\n",
        "    loss_mean = np.sum(np.multiply(losses, nums))/N\n",
        "    loss_std = np.sqrt(np.sum(np.multiply((losses-loss_mean)**2, nums))/(N-1))\n",
        "    \n",
        "    return loss_mean, loss_std"
      ],
      "execution_count": 19,
      "outputs": []
    },
    {
      "cell_type": "code",
      "metadata": {
        "id": "x0lEHvlsP8sn",
        "colab_type": "code",
        "colab": {}
      },
      "source": [
        "def accuracy(y_hat_b,yb):\n",
        "    \n",
        "    preds = torch.argmax(torch.softmax(y_hat_b,dim = 1),dim=1)\n",
        "    counts = (preds == yb)*1.0\n",
        "    \n",
        "    return torch.mean(counts)"
      ],
      "execution_count": 20,
      "outputs": []
    },
    {
      "cell_type": "code",
      "metadata": {
        "id": "vTUH6mEpZJvS",
        "colab_type": "code",
        "colab": {}
      },
      "source": [
        "import pandas as pd\n",
        "\n",
        "def train_model(model, loss_func, opt, metric = None, modo = 'min', paciencia = 5, num_epochs=20, print_leap = 1):\n",
        "  since = time.time()\n",
        "  es = EarlyStopping(modo = 'max', paciencia=paciencia)\n",
        "  best_model_wts = copy.deepcopy(model.state_dict())\n",
        "  best_acc = 0.0\n",
        "  if metric is None:\n",
        "    metric = accuracy\n",
        "\n",
        "  learning_data_loss = pd.DataFrame(\n",
        "  columns=['epoch', 'train_mean', 'train_std', 'val_mean', 'val_std'])\n",
        "  learning_data_acc = pd.DataFrame(\n",
        "  columns=['epoch', 'train_mean', 'train_std', 'val_mean', 'val_std'])\n",
        "\n",
        "  for epoch in range(num_epochs):\n",
        "    print('Epoch {}/{}'.format(epoch, num_epochs - 1))\n",
        "    print('-' * 10)\n",
        "\n",
        "    # Each epoch has a training and validation phase\n",
        "    train_res_loss = []\n",
        "    train_res_acc = []\n",
        "    for phase in ['train', 'val']:\n",
        "      if phase == 'train':\n",
        "        model.train()  # Set model to training mode\n",
        "\n",
        "        for inputs, labels in dataloaders[phase]:\n",
        "          inputs = inputs.to(device)\n",
        "          labels = labels.to(device)\n",
        "\n",
        "          # Para entrenar se usa la funcion de perdida\n",
        "          loss_batch(model, loss_func, inputs, labels, opt)\n",
        "\n",
        "          # Para almacenar se puede usar una metrica\n",
        "          train_res_loss.append(loss_batch(model, loss_func, inputs, labels))\n",
        "          train_res_acc.append(loss_batch(model, metric, inputs, labels))\n",
        "      else:\n",
        "        model.eval()   # Set model to evaluate mode\n",
        "        for inputs, labels in dataloaders[phase]:\n",
        "          inputs = inputs.to(device)\n",
        "          labels = labels.to(device)\n",
        "\n",
        "          with torch.no_grad():\n",
        "            val_res_loss = [\n",
        "                loss_batch(model, loss_func, inputs, labels) \n",
        "            ]\n",
        "            val_res_acc = [\n",
        "                  loss_batch(model, metric, inputs, labels)          \n",
        "            ]\n",
        "    # Register loss func\n",
        "    val_loss, val_loss_std = register(val_res_loss)\n",
        "    train_loss, train_loss_std = register(train_res_loss)\n",
        "    # Register acc\n",
        "    val_acc, val_acc_std = register(val_res_acc)\n",
        "    train_acc, train_acc_std = register(train_res_acc)\n",
        "\n",
        "    if epoch % print_leap == 0:\n",
        "      print('Epoca:', epoch, '- val loss:', val_loss, '- train loss:', train_loss)\n",
        "      print('Epoca:', epoch, '- val acc:', val_acc, '- train acc:', train_acc)\n",
        "      print('-'*20)\n",
        "\n",
        "    learning_data_loss = learning_data_loss.append(\n",
        "                    {\n",
        "                    'epoch': epoch,\n",
        "                    'train_mean': train_loss,\n",
        "                    'train_std': train_loss_std,\n",
        "                    'val_mean': val_loss,\n",
        "                    'val_std': val_loss_std\n",
        "                    },\n",
        "                    ignore_index=True)\n",
        "    \n",
        "    learning_data_acc = learning_data_acc.append(\n",
        "                    {\n",
        "                    'epoch': epoch,\n",
        "                    'train_mean': train_acc,\n",
        "                    'train_std': train_acc_std,\n",
        "                    'val_mean': val_acc,\n",
        "                    'val_std': val_acc_std\n",
        "                    },\n",
        "                    ignore_index=True)\n",
        "\n",
        "     \n",
        "    if phase == 'val' and val_acc > best_acc:\n",
        "      best_acc = val_acc\n",
        "      best_model_wts = copy.deepcopy(model.state_dict())\n",
        "\n",
        "    #if es.deberia_parar(val_acc):\n",
        "     # break\n",
        "    #else:\n",
        "     # continue\n",
        "    print()\n",
        "\n",
        "  time_elapsed = time.time() - since\n",
        "  print('Training complete in {:.0f}m {:.0f}s'.format(\n",
        "  time_elapsed // 60, time_elapsed % 60))\n",
        "\n",
        "  return model, best_model_wts,learning_data_loss, learning_data_acc"
      ],
      "execution_count": 21,
      "outputs": []
    },
    {
      "cell_type": "code",
      "metadata": {
        "id": "oRr7HczrvCu4",
        "colab_type": "code",
        "colab": {}
      },
      "source": [
        "model_ft = model.to(device)\n",
        "\n",
        "criterion = nn.CrossEntropyLoss()\n",
        "\n",
        "# Observe that all parameters are being optimized\n",
        "optimizer_ft = optim.Adam(model_ft.parameters(), lr=1e-4, weight_decay=1e-5)"
      ],
      "execution_count": 22,
      "outputs": []
    },
    {
      "cell_type": "code",
      "metadata": {
        "id": "u0EResQ0uIs_",
        "colab_type": "code",
        "colab": {
          "base_uri": "https://localhost:8080/",
          "height": 1000
        },
        "outputId": "5454125a-6000-4a47-c23d-9909e9418605"
      },
      "source": [
        "model_ft, best_model,train_loss, train_acc = train_model(model_ft, criterion, optimizer_ft,  paciencia = 5,\n",
        "                       num_epochs=20)"
      ],
      "execution_count": 23,
      "outputs": [
        {
          "output_type": "stream",
          "text": [
            "Epoch 0/19\n",
            "----------\n",
            "Epoca: 0 - val loss: 0.6761283278465271 - train loss: 0.3128682988127215\n",
            "Epoca: 0 - val acc: 0.5714285969734192 - train acc: 0.8083632019258314\n",
            "--------------------\n",
            "\n",
            "Epoch 1/19\n",
            "----------\n",
            "Epoca: 1 - val loss: 0.06750436872243881 - train loss: 0.1762985646083791\n",
            "Epoca: 1 - val acc: 1.0 - train acc: 0.927120669056153\n",
            "--------------------\n",
            "\n",
            "Epoch 2/19\n",
            "----------\n",
            "Epoca: 2 - val loss: 0.24649794399738312 - train loss: 0.15155562593589406\n",
            "Epoca: 2 - val acc: 0.8571429252624512 - train acc: 0.9436081242675279\n",
            "--------------------\n",
            "\n",
            "Epoch 3/19\n",
            "----------\n",
            "Epoca: 3 - val loss: 0.18534669280052185 - train loss: 0.14427473590561282\n",
            "Epoca: 3 - val acc: 0.8571429252624512 - train acc: 0.9493428912783751\n",
            "--------------------\n",
            "\n",
            "Epoch 4/19\n",
            "----------\n",
            "Epoca: 4 - val loss: 0.021527323871850967 - train loss: 0.13585897249702628\n",
            "Epoca: 4 - val acc: 1.0 - train acc: 0.9510155316749354\n",
            "--------------------\n",
            "\n",
            "Epoch 5/19\n",
            "----------\n",
            "Epoca: 5 - val loss: 0.02414468303322792 - train loss: 0.12474137123055498\n",
            "Epoca: 5 - val acc: 1.0 - train acc: 0.9550776583177072\n",
            "--------------------\n",
            "\n",
            "Epoch 6/19\n",
            "----------\n",
            "Epoca: 6 - val loss: 0.062369804829359055 - train loss: 0.11334585920955403\n",
            "Epoca: 6 - val acc: 1.0 - train acc: 0.9603345280764636\n",
            "--------------------\n",
            "\n",
            "Epoch 7/19\n",
            "----------\n",
            "Epoca: 7 - val loss: 0.08291365206241608 - train loss: 0.12518923251289907\n",
            "Epoca: 7 - val acc: 1.0 - train acc: 0.950537634437087\n",
            "--------------------\n",
            "\n",
            "Epoch 8/19\n",
            "----------\n",
            "Epoca: 8 - val loss: 0.01646365411579609 - train loss: 0.10786012002448313\n",
            "Epoca: 8 - val acc: 1.0 - train acc: 0.9589008363201912\n",
            "--------------------\n",
            "\n",
            "Epoch 9/19\n",
            "----------\n",
            "Epoca: 9 - val loss: 0.0002803802490234375 - train loss: 0.09767638634347324\n",
            "Epoca: 9 - val acc: 1.0 - train acc: 0.9655913978494624\n",
            "--------------------\n",
            "\n",
            "Epoch 10/19\n",
            "----------\n",
            "Epoca: 10 - val loss: 0.04130782559514046 - train loss: 0.10034832851844422\n",
            "Epoca: 10 - val acc: 1.0 - train acc: 0.9639187574671446\n",
            "--------------------\n",
            "\n",
            "Epoch 11/19\n",
            "----------\n",
            "Epoca: 11 - val loss: 0.02102545276284218 - train loss: 0.08815719364845197\n",
            "Epoca: 11 - val acc: 1.0 - train acc: 0.9694145758661887\n",
            "--------------------\n",
            "\n",
            "Epoch 12/19\n",
            "----------\n",
            "Epoca: 12 - val loss: 0.020349571481347084 - train loss: 0.0853614413320769\n",
            "Epoca: 12 - val acc: 1.0 - train acc: 0.9672640382317802\n",
            "--------------------\n",
            "\n",
            "Epoch 13/19\n",
            "----------\n",
            "Epoca: 13 - val loss: 0.11950775235891342 - train loss: 0.08446644275419174\n",
            "Epoca: 13 - val acc: 0.8571429252624512 - train acc: 0.9689366786140979\n",
            "--------------------\n",
            "\n",
            "Epoch 14/19\n",
            "----------\n",
            "Epoca: 14 - val loss: 0.0784386545419693 - train loss: 0.09283413620334087\n",
            "Epoca: 14 - val acc: 1.0 - train acc: 0.9643966547334778\n",
            "--------------------\n",
            "\n",
            "Epoch 15/19\n",
            "----------\n",
            "Epoca: 15 - val loss: 0.04435849189758301 - train loss: 0.0827213290736097\n",
            "Epoca: 15 - val acc: 1.0 - train acc: 0.9706093189964158\n",
            "--------------------\n",
            "\n",
            "Epoch 16/19\n",
            "----------\n",
            "Epoca: 16 - val loss: 0.02918720245361328 - train loss: 0.08152991748340384\n",
            "Epoca: 16 - val acc: 1.0 - train acc: 0.9706093190106582\n",
            "--------------------\n",
            "\n",
            "Epoch 17/19\n",
            "----------\n",
            "Epoca: 17 - val loss: 0.06013515964150429 - train loss: 0.08516157016629886\n",
            "Epoca: 17 - val acc: 1.0 - train acc: 0.9722819593787335\n",
            "--------------------\n",
            "\n",
            "Epoch 18/19\n",
            "----------\n",
            "Epoca: 18 - val loss: 0.0017662729369476438 - train loss: 0.07950512832531365\n",
            "Epoca: 18 - val acc: 1.0 - train acc: 0.9713261648745519\n",
            "--------------------\n",
            "\n",
            "Epoch 19/19\n",
            "----------\n",
            "Epoca: 19 - val loss: 0.0017160688294097781 - train loss: 0.09296642372400245\n",
            "Epoca: 19 - val acc: 1.0 - train acc: 0.9627240143511601\n",
            "--------------------\n",
            "\n",
            "Training complete in 35m 29s\n"
          ],
          "name": "stdout"
        }
      ]
    },
    {
      "cell_type": "code",
      "metadata": {
        "id": "TWmMteSAP8sw",
        "colab_type": "code",
        "colab": {}
      },
      "source": [
        "import matplotlib.pyplot as plt\n",
        "\n",
        "def show_learning_curves(learning_data, y_name = 'Metrica',leaps = 1):\n",
        "    '''Genera curvas de aprendizaje dado data dataframe resultado de fit().'''\n",
        "    \n",
        "    fig, ax = plt.subplots(figsize=[10, 7])\n",
        "    ax.grid()\n",
        "\n",
        "\n",
        "    epcs = learning_data['epoch'][::leaps]\n",
        "    val_loss_lower = (learning_data['val_mean'] -\n",
        "                      learning_data['val_std'])[::leaps]\n",
        "\n",
        "    val_loss_upper = (learning_data['val_mean'] +\n",
        "                      learning_data['val_std'])[::leaps]\n",
        "\n",
        "    train_loss_lower = (learning_data['train_mean'] -\n",
        "                        learning_data['train_std'])[::leaps]\n",
        "    train_loss_upper = (learning_data['train_mean'] +\n",
        "                        learning_data['train_std'])[::leaps]\n",
        "\n",
        "    ax.plot(epcs,\n",
        "            learning_data['val_mean'][::leaps],\n",
        "            'o--',\n",
        "            color=\"g\",\n",
        "            label=\"Validation\")\n",
        "\n",
        "    ax.fill_between(epcs, val_loss_lower, val_loss_upper, alpha=0.1, color='g')\n",
        "\n",
        "    ax.plot(epcs,\n",
        "            learning_data['train_mean'][::leaps],\n",
        "            'o--',\n",
        "            color=\"r\",\n",
        "            label=\"Train\")\n",
        "\n",
        "    ax.fill_between(epcs, train_loss_lower, train_loss_upper, alpha=0.1, color='r')\n",
        "\n",
        "    ax.set_title('Curva de Aprendizaje', fontsize=25)\n",
        "    ax.set_xlabel('Epocas', fontsize=15)\n",
        "    ax.set_ylabel(y_name, fontsize=15)\n",
        "    ax.legend()"
      ],
      "execution_count": 24,
      "outputs": []
    },
    {
      "cell_type": "code",
      "metadata": {
        "id": "qT91SJI0Y-f5",
        "colab_type": "code",
        "colab": {
          "base_uri": "https://localhost:8080/",
          "height": 472
        },
        "outputId": "b62d0c14-42bb-4533-b5c1-f4a7f82f5567"
      },
      "source": [
        "show_learning_curves(train_loss,'CrossEntropy Loss')"
      ],
      "execution_count": 25,
      "outputs": [
        {
          "output_type": "display_data",
          "data": {
            "image/png": "[encoded data removed]",
            "text/plain": [
              "<Figure size 720x504 with 1 Axes>"
            ]
          },
          "metadata": {
            "tags": [],
            "needs_background": "light"
          }
        }
      ]
    },
    {
      "cell_type": "code",
      "metadata": {
        "id": "teI3i9VqZBr-",
        "colab_type": "code",
        "colab": {
          "base_uri": "https://localhost:8080/",
          "height": 472
        },
        "outputId": "5dbce8f5-b2fb-4a1d-fc5c-bbf00df5521a"
      },
      "source": [
        "show_learning_curves(train_acc, 'Accuracy')"
      ],
      "execution_count": 26,
      "outputs": [
        {
          "output_type": "display_data",
          "data": {
            "image/png": "[encoded data removed]",
            "text/plain": [
              "<Figure size 720x504 with 1 Axes>"
            ]
          },
          "metadata": {
            "tags": [],
            "needs_background": "light"
          }
        }
      ]
    },
    {
      "cell_type": "markdown",
      "metadata": {
        "id": "PcxmXYArmPMR",
        "colab_type": "text"
      },
      "source": [
        "Testeo de la red:"
      ]
    },
    {
      "cell_type": "code",
      "metadata": {
        "id": "3pvLssmCxiCC",
        "colab_type": "code",
        "colab": {
          "base_uri": "https://localhost:8080/",
          "height": 850
        },
        "outputId": "3587da0f-cddf-4859-eee0-8e5f7e7a5523"
      },
      "source": [
        "model.to(device)"
      ],
      "execution_count": 27,
      "outputs": [
        {
          "output_type": "execute_result",
          "data": {
            "text/plain": [
              "VGG16DWSep(\n",
              "  (conv1): Conv2d(3, 64, kernel_size=(3, 3), stride=(1, 1), padding=(1, 1))\n",
              "  (conv2): Conv2d(64, 64, kernel_size=(3, 3), stride=(1, 1), padding=(1, 1))\n",
              "  (maxpool1): MaxPool2d(kernel_size=2, stride=2, padding=0, dilation=1, ceil_mode=False)\n",
              "  (dwconv3): DWSepConv2d(\n",
              "    (conv1): Conv2d(64, 64, kernel_size=(3, 3), stride=(1, 1), padding=(1, 1))\n",
              "    (conv2): Conv2d(64, 128, kernel_size=(1, 1), stride=(1, 1), padding=(1, 1))\n",
              "  )\n",
              "  (dwconv4): DWSepConv2d(\n",
              "    (conv1): Conv2d(128, 128, kernel_size=(3, 3), stride=(1, 1), padding=(1, 1))\n",
              "    (conv2): Conv2d(128, 128, kernel_size=(1, 1), stride=(1, 1), padding=(1, 1))\n",
              "  )\n",
              "  (maxpool2): MaxPool2d(kernel_size=2, stride=2, padding=0, dilation=1, ceil_mode=False)\n",
              "  (dwconv5): DWSepConv2d(\n",
              "    (conv1): Conv2d(128, 128, kernel_size=(3, 3), stride=(1, 1), padding=(1, 1))\n",
              "    (conv2): Conv2d(128, 256, kernel_size=(1, 1), stride=(1, 1), padding=(1, 1))\n",
              "  )\n",
              "  (batchnorm1): BatchNorm2d(256, eps=1e-05, momentum=0.1, affine=True, track_running_stats=True)\n",
              "  (dwconv6): DWSepConv2d(\n",
              "    (conv1): Conv2d(256, 256, kernel_size=(3, 3), stride=(1, 1), padding=(1, 1))\n",
              "    (conv2): Conv2d(256, 256, kernel_size=(1, 1), stride=(1, 1), padding=(1, 1))\n",
              "  )\n",
              "  (batchnorm2): BatchNorm2d(256, eps=1e-05, momentum=0.1, affine=True, track_running_stats=True)\n",
              "  (dwconv7): DWSepConv2d(\n",
              "    (conv1): Conv2d(256, 256, kernel_size=(3, 3), stride=(1, 1), padding=(1, 1))\n",
              "    (conv2): Conv2d(256, 256, kernel_size=(1, 1), stride=(1, 1), padding=(1, 1))\n",
              "  )\n",
              "  (maxpool3): MaxPool2d(kernel_size=2, stride=2, padding=0, dilation=1, ceil_mode=False)\n",
              "  (dwconv8): DWSepConv2d(\n",
              "    (conv1): Conv2d(256, 256, kernel_size=(3, 3), stride=(1, 1), padding=(1, 1))\n",
              "    (conv2): Conv2d(256, 512, kernel_size=(1, 1), stride=(1, 1), padding=(1, 1))\n",
              "  )\n",
              "  (batchnorm3): BatchNorm2d(512, eps=1e-05, momentum=0.1, affine=True, track_running_stats=True)\n",
              "  (dwconv9): DWSepConv2d(\n",
              "    (conv1): Conv2d(512, 512, kernel_size=(3, 3), stride=(1, 1), padding=(1, 1))\n",
              "    (conv2): Conv2d(512, 512, kernel_size=(1, 1), stride=(1, 1), padding=(1, 1))\n",
              "  )\n",
              "  (batchnorm4): BatchNorm2d(512, eps=1e-05, momentum=0.1, affine=True, track_running_stats=True)\n",
              "  (dwconv10): DWSepConv2d(\n",
              "    (conv1): Conv2d(512, 512, kernel_size=(3, 3), stride=(1, 1), padding=(1, 1))\n",
              "    (conv2): Conv2d(512, 512, kernel_size=(1, 1), stride=(1, 1), padding=(1, 1))\n",
              "  )\n",
              "  (maxpool4): MaxPool2d(kernel_size=2, stride=2, padding=0, dilation=1, ceil_mode=False)\n",
              "  (flatten1): Flatten()\n",
              "  (lin1): Linear(in_features=184832, out_features=1024, bias=True)\n",
              "  (drop1): Dropout(p=0.7, inplace=False)\n",
              "  (lin2): Linear(in_features=1024, out_features=512, bias=True)\n",
              "  (drop2): Dropout(p=0.5, inplace=False)\n",
              "  (lin3): Linear(in_features=512, out_features=2, bias=True)\n",
              ")"
            ]
          },
          "metadata": {
            "tags": []
          },
          "execution_count": 27
        }
      ]
    },
    {
      "cell_type": "code",
      "metadata": {
        "id": "WntzFwpdyDsh",
        "colab_type": "code",
        "colab": {}
      },
      "source": [
        "def test_model(model, data_test_loader):\n",
        "  model.eval()\n",
        "  y_pred = []\n",
        "  y_true = []\n",
        "  for X, y in data_test:\n",
        "    X = X.to(device)\n",
        "    y = y.to(device)\n",
        "    with torch.no_grad():\n",
        "      preds = torch.argmax(torch.softmax(model(X),dim = 1),dim=1)\n",
        "      y_pred.append(preds)\n",
        "      y_true.append(y)\n",
        "  y_true = [int(y.to('cpu')) for y in y_true]\n",
        "  y_pred = [int(y.to('cpu')) for y in y_pred]\n",
        "  return y_pred, y_true"
      ],
      "execution_count": 28,
      "outputs": []
    },
    {
      "cell_type": "code",
      "metadata": {
        "id": "WmFv4nGmy5Wt",
        "colab_type": "code",
        "colab": {}
      },
      "source": [
        "y_pred, y_test = test_model(model, data_test)"
      ],
      "execution_count": 29,
      "outputs": []
    },
    {
      "cell_type": "code",
      "metadata": {
        "id": "6JhfP8Nm1FuT",
        "colab_type": "code",
        "colab": {
          "base_uri": "https://localhost:8080/",
          "height": 50
        },
        "outputId": "bcdf6dad-3fe9-4df0-d70c-559e252032d6"
      },
      "source": [
        "from sklearn.metrics import f1_score, accuracy_score\n",
        "print('f1 score on test set: ', f1_score(y_test, y_pred))\n",
        "print('Accuracy on test set: ', accuracy_score(y_test, y_pred))"
      ],
      "execution_count": 34,
      "outputs": [
        {
          "output_type": "stream",
          "text": [
            "f1 score on test set:  0.8366013071895426\n",
            "Accuracy on test set:  0.7596153846153846\n"
          ],
          "name": "stdout"
        }
      ]
    },
    {
      "cell_type": "code",
      "metadata": {
        "id": "W5pLaXPcMZOr",
        "colab_type": "code",
        "colab": {
          "base_uri": "https://localhost:8080/",
          "height": 50
        },
        "outputId": "60643381-25e8-43bd-9934-47458e78bae8"
      },
      "source": [
        "!gpustat -p"
      ],
      "execution_count": 36,
      "outputs": [
        {
          "output_type": "stream",
          "text": [
            "\u001b[1m\u001b[37mbbd1f04cf614           \u001b[m  Sat Jul 18 00:18:13 2020  \u001b[1m\u001b[30m418.67\u001b[m\n",
            "\u001b[36m[0]\u001b[m \u001b[34mTesla P100-PCIE-16GB\u001b[m |\u001b[31m 42'C\u001b[m, \u001b[32m  0 %\u001b[m | \u001b[36m\u001b[1m\u001b[33m12419\u001b[m / \u001b[33m16280\u001b[m MB |\n"
          ],
          "name": "stdout"
        }
      ]
    },
    {
      "cell_type": "code",
      "metadata": {
        "id": "Ndk5P8FqSRK-",
        "colab_type": "code",
        "colab": {}
      },
      "source": [
        "# Creacion y guardado de archivo hdf:\n",
        "import h5py\n",
        "hf = h5py.File('model.h5', 'w')"
      ],
      "execution_count": 38,
      "outputs": []
    },
    {
      "cell_type": "code",
      "metadata": {
        "id": "LTDaq0WNSgmc",
        "colab_type": "code",
        "colab": {}
      },
      "source": [
        "path = '/content/model.h5'\n",
        "torch.save(model.state_dict(), path)"
      ],
      "execution_count": 39,
      "outputs": []
    },
    {
      "cell_type": "code",
      "metadata": {
        "id": "KIyvJyJFTQA7",
        "colab_type": "code",
        "colab": {}
      },
      "source": [
        ""
      ],
      "execution_count": null,
      "outputs": []
    }
  ]
}