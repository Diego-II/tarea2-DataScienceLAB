{
  "nbformat": 4,
  "nbformat_minor": 0,
  "metadata": {
    "colab": {
      "name": "Tarea2_V3",
      "provenance": []
    },
    "kernelspec": {
      "name": "python3",
      "display_name": "Python 3"
    },
    "accelerator": "GPU"
  },
  "cells": [
    {
      "cell_type": "markdown",
      "metadata": {
        "id": "Pq9hTddORkUY",
        "colab_type": "text"
      },
      "source": [
        "# 1. Carga de datos y librerias a usar."
      ]
    },
    {
      "cell_type": "code",
      "metadata": {
        "id": "CWfEI8Oxnv6j",
        "colab_type": "code",
        "colab": {
          "base_uri": "https://localhost:8080/",
          "height": 35
        },
        "outputId": "8f9bffc1-5320-4b7c-a933-2afc38ce6792"
      },
      "source": [
        "#Estas lineas corren solo en google colab:\n",
        "import os.path \n",
        "try:\n",
        "  import google.colab\n",
        "  IN_COLAB = True\n",
        "except:\n",
        "  IN_COLAB = False\n",
        "if IN_COLAB:\n",
        "  if os.path.exists('/content/ChestXRay2017.zip'):\n",
        "    print(\"Datos ya descargados\")\n",
        "  else:\n",
        "    !wget https://data.mendeley.com/datasets/rscbjbr9sj/2/files/f12eaf6d-6023-432f-acc9-80c9d7393433/ChestXRay2017.zip\n",
        "    !unzip /content/ChestXRay2017.zip\n",
        "    !pip install gpustat"
      ],
      "execution_count": 2,
      "outputs": [
        {
          "output_type": "stream",
          "text": [
            "Datos ya descargados\n"
          ],
          "name": "stdout"
        }
      ]
    },
    {
      "cell_type": "code",
      "metadata": {
        "id": "mfoNboyIolBF",
        "colab_type": "code",
        "colab": {}
      },
      "source": [
        "import torch\n",
        "import torchvision\n",
        "from torchvision.datasets.folder import default_loader\n",
        "\n",
        "# Intento de usar el train_model de https://pytorch.org/tutorials/beginner/transfer_learning_tutorial.html\n",
        "from __future__ import print_function, division\n",
        "\n",
        "import torch\n",
        "import torch.nn as nn\n",
        "import torch.optim as optim\n",
        "from torch.optim import lr_scheduler\n",
        "import numpy as np\n",
        "import torchvision\n",
        "#from torchvision.transforms.functional import convert_image_dtype\n",
        "from torchvision import datasets, models, transforms\n",
        "import matplotlib.pyplot as plt\n",
        "import time\n",
        "import os\n",
        "import copy\n",
        "from torchsummary import summary\n"
      ],
      "execution_count": 3,
      "outputs": []
    },
    {
      "cell_type": "code",
      "metadata": {
        "id": "SR3_62kTskvH",
        "colab_type": "code",
        "colab": {}
      },
      "source": [
        "# Torchvision transforms compose para carga de datos con transformacion:\n",
        "\n",
        "degrees = (-20,20)\n",
        "transformer = torchvision.transforms.Compose([        \n",
        "    torchvision.transforms.Resize(size = (224,224)),\n",
        "    torchvision.transforms.RandomHorizontalFlip(p=0.5),\n",
        "    torchvision.transforms.RandomRotation(degrees),\n",
        "    torchvision.transforms.ColorJitter(brightness=[1.2, 1.5]),\n",
        "    torchvision.transforms.ToTensor(), \n",
        "    ])"
      ],
      "execution_count": 4,
      "outputs": []
    },
    {
      "cell_type": "code",
      "metadata": {
        "id": "iCrYK4I2SI8o",
        "colab_type": "code",
        "colab": {}
      },
      "source": [
        "# Usamos el loader por defecto de ImageFolder\n",
        "# Deja las imagenes con 3 capas\n",
        "from torchvision.datasets.folder import default_loader\n",
        "    \n",
        "import google.colab\n",
        "import os.path \n",
        "root = '/content/chest_xray/train/'\n",
        "train_dir = '/content/chest_xray/train/'\n",
        "test_dir = '/content/chest_xray/test/'\n",
        "\n",
        "data_train1=datasets.DatasetFolder(root = train_dir, loader =  default_loader, transform = transformer, extensions = 'jpeg')\n",
        "data_test1=datasets.DatasetFolder(root = test_dir, loader = default_loader, transform = transformer, extensions = 'jpeg')"
      ],
      "execution_count": 5,
      "outputs": []
    },
    {
      "cell_type": "code",
      "metadata": {
        "id": "OzpzG5SB7_An",
        "colab_type": "code",
        "colab": {}
      },
      "source": [
        "# 3\n",
        "from sklearn.model_selection import train_test_split\n",
        "from torch.utils.data import Subset\n",
        "\n",
        "# split\n",
        "train_idx, val_idx = train_test_split(list(range(len(data_train1))),test_size=0.2)\n",
        "#data_train = Subset(data_train1, train_idx)\n",
        "#data_val   = Subset(data_train1,val_idx)\n",
        "\n",
        "class ReplicarMuestreoDePrueba(torch.utils.data.Sampler):\n",
        "    \n",
        "    def __init__(self,etiquetas_prueba, indices_val, etiquetas_val):\n",
        "        self.indices_val      = indices_val\n",
        "        #self.etiquetas_val    = etiquetas_val\n",
        "        self.prob_pneumonia   = sum(etiquetas_prueba)/len(etiquetas_prueba)\n",
        "        self.prob_normal      = 1-self.prob_pneumonia\n",
        "        self.prob_vector      = [ int((etiquetas_val[i]==1 )*self.prob_pneumonia+\n",
        "                                 (etiquetas_val[i]==0)*self.prob_normal)\n",
        "                                for i in range(len(etiquetas_val))\n",
        "                                ]\n",
        "    def __iter__(self):\n",
        "        return iter(np.random.choice(self.indices_val,p=self.prob_vector))\n",
        "    \n",
        "etiquetas_prueba = data_test1.targets\n",
        "# indices_val = val_idx\n",
        "etiquetas_val = [data_train1.targets[i] for i in val_idx ] \n",
        "\n",
        "a=ReplicarMuestreoDePrueba(etiquetas_prueba,val_idx, etiquetas_val)"
      ],
      "execution_count": 6,
      "outputs": []
    },
    {
      "cell_type": "code",
      "metadata": {
        "id": "4ciYAMCOSZRx",
        "colab_type": "code",
        "colab": {}
      },
      "source": [
        "from torch.utils.data.sampler import RandomSampler, SubsetRandomSampler\n",
        "from torch.utils.data import DataLoader\n",
        "\n",
        "data_train = DataLoader(data_train1,sampler=SubsetRandomSampler(train_idx))\n",
        "data_val   = DataLoader(data_train1,sampler=ReplicarMuestreoDePrueba(etiquetas_prueba,val_idx, etiquetas_val))\n",
        "data_test  = DataLoader(data_test1,sampler=RandomSampler(data_test1))"
      ],
      "execution_count": 7,
      "outputs": []
    },
    {
      "cell_type": "code",
      "metadata": {
        "id": "9V5TCHhPiEJz",
        "colab_type": "code",
        "colab": {}
      },
      "source": [
        "from torch.utils.data.sampler import RandomSampler, SubsetRandomSampler\n",
        "from torch.utils.data import DataLoader\n",
        "\n",
        "data_dir = '/content/chest_xray'\n",
        "bs = 16\n",
        "\n",
        "dataloaders = {\n",
        "    'train' : DataLoader(data_train1, \n",
        "                         sampler = SubsetRandomSampler(train_idx), \n",
        "                         batch_size = bs,\n",
        "                         num_workers=4\n",
        "                         ),\n",
        "    'val' : DataLoader(data_train1,\n",
        "                       sampler = ReplicarMuestreoDePrueba(etiquetas_prueba,val_idx, etiquetas_val),\n",
        "                       batch_size = bs,\n",
        "                       num_workers=4\n",
        "                       )\n",
        "}\n",
        "'''\n",
        "dataloaders = {x: torch.utils.data.DataLoader(x, batch_size=16,\n",
        "                                             shuffle=True, num_workers=4)\n",
        "              for x in [data_train, data_val]}'''\n",
        "\n",
        "\n",
        "#dataset_sizes = {x: len(dataloaders[x]) for x in ['train', 'val']}\n",
        "#class_names = image_datasets['train'].classes\n",
        "\n",
        "device = torch.device(\"cuda:0\" if torch.cuda.is_available() else \"cpu\")"
      ],
      "execution_count": 8,
      "outputs": []
    },
    {
      "cell_type": "markdown",
      "metadata": {
        "id": "YkUch_CXTM5D",
        "colab_type": "text"
      },
      "source": [
        "# 2. Red VGG16DWSep."
      ]
    },
    {
      "cell_type": "code",
      "metadata": {
        "id": "slduMCm4TuGX",
        "colab_type": "code",
        "colab": {
          "base_uri": "https://localhost:8080/",
          "height": 35
        },
        "outputId": "309b0d82-7d87-4d43-89b9-e0e798f6978c"
      },
      "source": [
        "import torch\n",
        "import torch.nn as nn\n",
        "import torch.nn.functional as F\n",
        "\n",
        "torch.manual_seed(2020)"
      ],
      "execution_count": 9,
      "outputs": [
        {
          "output_type": "execute_result",
          "data": {
            "text/plain": [
              "<torch._C.Generator at 0x7fca3af3a430>"
            ]
          },
          "metadata": {
            "tags": []
          },
          "execution_count": 9
        }
      ]
    },
    {
      "cell_type": "code",
      "metadata": {
        "id": "CxHrOK5h7_A2",
        "colab_type": "code",
        "colab": {}
      },
      "source": [
        "class DWSepConv2d(nn.Module):\n",
        "    \n",
        "    def __init__(self,in_channels, out_channels, kernel_size,padding,bias=True):\n",
        "        super().__init__()\n",
        "        self.conv1 = nn.Conv2d(in_channels, in_channels,kernel_size,padding=padding,bias=bias)\n",
        "        self.conv2 = nn.Conv2d(in_channels, out_channels,kernel_size=1,padding=padding,bias=bias)\n",
        "    def forward(self,xb):\n",
        "        xb = F.relu(self.conv1(xb.float()))\n",
        "        xb = F.relu(self.conv2(xb)) \n",
        "        return xb"
      ],
      "execution_count": 10,
      "outputs": []
    },
    {
      "cell_type": "code",
      "metadata": {
        "id": "rtSek5x67_A6",
        "colab_type": "code",
        "colab": {}
      },
      "source": [
        "class VGG16DWSep(nn.Module):\n",
        "    \n",
        "    def __init__(self,in_channels):\n",
        "        super().__init__()\n",
        "        # bloque 1\n",
        "        self.conv1 = nn.Conv2d(in_channels,64,kernel_size=3,padding=1,stride=1)\n",
        "        self.conv2 = nn.Conv2d(64,64,kernel_size=3, padding=1, stride=1)\n",
        "        self.maxpool1 = nn.MaxPool2d(kernel_size=2,stride=2) \n",
        "        # bloque 2\n",
        "        self.dwconv3 = DWSepConv2d(64,128,kernel_size=3,padding=1)\n",
        "        self.dwconv4 = DWSepConv2d(128,128,kernel_size=3,padding=1)\n",
        "        self.maxpool2 = nn.MaxPool2d(kernel_size=2,stride=2)\n",
        "        # bloque 3        \n",
        "        self.dwconv5 = DWSepConv2d(128,256,kernel_size=3,padding=1)\n",
        "        self.batchnorm1 = nn.BatchNorm2d(256)\n",
        "        # bloque 4\n",
        "        self.dwconv6 = DWSepConv2d(256,256,kernel_size=3,padding=1)\n",
        "        self.batchnorm2 = nn.BatchNorm2d(256)\n",
        "        # bloque 5\n",
        "        self.dwconv7 = DWSepConv2d(256,256,kernel_size=3,padding=1)\n",
        "        self.maxpool3 = nn.MaxPool2d(kernel_size=2,stride=2)\n",
        "        # bloque 6\n",
        "        self.dwconv8 = DWSepConv2d(256,512,kernel_size=3,padding=1)\n",
        "        self.batchnorm3 = nn.BatchNorm2d(512)\n",
        "        # bloque 7\n",
        "        self.dwconv9 = DWSepConv2d(512,512,kernel_size=3,padding=1)\n",
        "        self.batchnorm4 = nn.BatchNorm2d(512)\n",
        "        # bloque 8\n",
        "        self.dwconv10 = DWSepConv2d(512,512,kernel_size=3,padding=1)\n",
        "        self.maxpool4 = nn.MaxPool2d(kernel_size=2,stride=2)\n",
        "        # bloque o1\n",
        "        self.flatten1 = nn.Flatten()\n",
        "        self.lin1 = nn.Linear(184832,1024)\n",
        "        self.drop1 = nn.Dropout(.7)\n",
        "        # bloque o2\n",
        "        self.lin2 = nn.Linear(1024,512)\n",
        "        self.drop2 = nn.Dropout(.5)\n",
        "        self.lin3 = nn.Linear(512,2)\n",
        "    \n",
        "    def forward(self,xb):\n",
        "      # bloque 1\n",
        "      xb = xb.view(-1, 3, 224, 224)\n",
        "      xb = F.relu(self.conv1(xb))\n",
        "      xb = F.relu(self.conv2(xb))\n",
        "      xb = self.maxpool1(xb)\n",
        "      # bloque 2\n",
        "      xb = F.relu(self.dwconv3(xb))\n",
        "      xb = F.relu(self.dwconv4(xb))\n",
        "      xb = self.maxpool2(xb)\n",
        "      # bloque 3\n",
        "      xb = F.relu(self.dwconv5(xb))\n",
        "      xb = F.relu(self.batchnorm1(xb))\n",
        "      # bloque 4\n",
        "      xb = F.relu(self.dwconv6(xb))\n",
        "      xb = F.relu(self.batchnorm2(xb))\n",
        "      # bloque 5\n",
        "      xb = F.relu(self.dwconv7(xb))\n",
        "      xb = self.maxpool3(xb)\n",
        "      # bloque 6\n",
        "      xb = F.relu(self.dwconv8(xb))\n",
        "      xb = F.relu(self.batchnorm3(xb))\n",
        "      # bloque 7\n",
        "      xb = F.relu(self.dwconv9(xb))\n",
        "      xb = F.relu(self.batchnorm4(xb))\n",
        "      # bloque 8\n",
        "      xb = F.relu(self.dwconv10(xb))\n",
        "      xb = self.maxpool4(xb)\n",
        "      #print(xb.shape)\n",
        "      # bloque o1\n",
        "      xb = self.flatten1(xb)\n",
        "      xb = F.relu(self.lin1(xb))\n",
        "      xb = self.drop1(xb)\n",
        "      # bloque o2\n",
        "      xb = F.relu(self.lin2(xb))\n",
        "      xb = self.drop2(xb)\n",
        "      xb = F.relu(self.lin3(xb))\n",
        "      return xb.view(-1, xb.size(1))"
      ],
      "execution_count": 11,
      "outputs": []
    },
    {
      "cell_type": "markdown",
      "metadata": {
        "id": "8f4uQ-0MT6WF",
        "colab_type": "text"
      },
      "source": [
        "## Importar red VGG16 ya entrenada para transferir pesos:"
      ]
    },
    {
      "cell_type": "code",
      "metadata": {
        "tags": [],
        "id": "gN9I9dKK7_A-",
        "colab_type": "code",
        "colab": {
          "base_uri": "https://localhost:8080/",
          "height": 883
        },
        "outputId": "9a58f71b-6806-4290-8910-434771f73465"
      },
      "source": [
        "# Descargamos la red vgg16\n",
        "try: \n",
        "  summary(vgg16.cuda(),(3,224,244))\n",
        "except:\n",
        "  vgg16 = torchvision.models.vgg16(pretrained=True, progress=True)\n",
        "  summary(vgg16.cuda(),(3,224,244))\n",
        "\n",
        "# Congelamos los pesos de la red VGG16:\n",
        "for param in vgg16.parameters():\n",
        "  param.requires_grad = False"
      ],
      "execution_count": 12,
      "outputs": [
        {
          "output_type": "stream",
          "text": [
            "----------------------------------------------------------------\n",
            "        Layer (type)               Output Shape         Param #\n",
            "================================================================\n",
            "            Conv2d-1         [-1, 64, 224, 244]           1,792\n",
            "              ReLU-2         [-1, 64, 224, 244]               0\n",
            "            Conv2d-3         [-1, 64, 224, 244]          36,928\n",
            "              ReLU-4         [-1, 64, 224, 244]               0\n",
            "         MaxPool2d-5         [-1, 64, 112, 122]               0\n",
            "            Conv2d-6        [-1, 128, 112, 122]          73,856\n",
            "              ReLU-7        [-1, 128, 112, 122]               0\n",
            "            Conv2d-8        [-1, 128, 112, 122]         147,584\n",
            "              ReLU-9        [-1, 128, 112, 122]               0\n",
            "        MaxPool2d-10          [-1, 128, 56, 61]               0\n",
            "           Conv2d-11          [-1, 256, 56, 61]         295,168\n",
            "             ReLU-12          [-1, 256, 56, 61]               0\n",
            "           Conv2d-13          [-1, 256, 56, 61]         590,080\n",
            "             ReLU-14          [-1, 256, 56, 61]               0\n",
            "           Conv2d-15          [-1, 256, 56, 61]         590,080\n",
            "             ReLU-16          [-1, 256, 56, 61]               0\n",
            "        MaxPool2d-17          [-1, 256, 28, 30]               0\n",
            "           Conv2d-18          [-1, 512, 28, 30]       1,180,160\n",
            "             ReLU-19          [-1, 512, 28, 30]               0\n",
            "           Conv2d-20          [-1, 512, 28, 30]       2,359,808\n",
            "             ReLU-21          [-1, 512, 28, 30]               0\n",
            "           Conv2d-22          [-1, 512, 28, 30]       2,359,808\n",
            "             ReLU-23          [-1, 512, 28, 30]               0\n",
            "        MaxPool2d-24          [-1, 512, 14, 15]               0\n",
            "           Conv2d-25          [-1, 512, 14, 15]       2,359,808\n",
            "             ReLU-26          [-1, 512, 14, 15]               0\n",
            "           Conv2d-27          [-1, 512, 14, 15]       2,359,808\n",
            "             ReLU-28          [-1, 512, 14, 15]               0\n",
            "           Conv2d-29          [-1, 512, 14, 15]       2,359,808\n",
            "             ReLU-30          [-1, 512, 14, 15]               0\n",
            "        MaxPool2d-31            [-1, 512, 7, 7]               0\n",
            "AdaptiveAvgPool2d-32            [-1, 512, 7, 7]               0\n",
            "           Linear-33                 [-1, 4096]     102,764,544\n",
            "             ReLU-34                 [-1, 4096]               0\n",
            "          Dropout-35                 [-1, 4096]               0\n",
            "           Linear-36                 [-1, 4096]      16,781,312\n",
            "             ReLU-37                 [-1, 4096]               0\n",
            "          Dropout-38                 [-1, 4096]               0\n",
            "           Linear-39                 [-1, 1000]       4,097,000\n",
            "================================================================\n",
            "Total params: 138,357,544\n",
            "Trainable params: 138,357,544\n",
            "Non-trainable params: 0\n",
            "----------------------------------------------------------------\n",
            "Input size (MB): 0.63\n",
            "Forward/backward pass size (MB): 237.81\n",
            "Params size (MB): 527.79\n",
            "Estimated Total Size (MB): 766.23\n",
            "----------------------------------------------------------------\n"
          ],
          "name": "stdout"
        }
      ]
    },
    {
      "cell_type": "code",
      "metadata": {
        "id": "qUbCizC5T36s",
        "colab_type": "code",
        "colab": {}
      },
      "source": [
        "# Se quiere la capa 0 y la 2, que son las dos primeras convolucionales:\n",
        "pesos_dict = {\n",
        "    'conv1' : vgg16.features[0],\n",
        "    'conv2' : vgg16.features[2]\n",
        "}"
      ],
      "execution_count": 13,
      "outputs": []
    },
    {
      "cell_type": "code",
      "metadata": {
        "id": "ntEcjPB7UQhW",
        "colab_type": "code",
        "colab": {}
      },
      "source": [
        "# Instanciamos una reg VGG16DWSep:\n",
        "model = VGG16DWSep(in_channels = 3)"
      ],
      "execution_count": 14,
      "outputs": []
    },
    {
      "cell_type": "code",
      "metadata": {
        "id": "7f0DTbuDUZmB",
        "colab_type": "code",
        "colab": {}
      },
      "source": [
        "# Transferencia de pesos:\n",
        "model.conv1.weight = pesos_dict['conv1'].weight\n",
        "model.conv2.weight = pesos_dict['conv2'].weight"
      ],
      "execution_count": 15,
      "outputs": []
    },
    {
      "cell_type": "code",
      "metadata": {
        "id": "0IS7g5P3Uwzp",
        "colab_type": "code",
        "colab": {}
      },
      "source": [
        "# Congelamos los pesos transferidos en la red instanciada:\n",
        "model.conv1.requires_grad_ = False\n",
        "model.conv2.requires_grad_ = False"
      ],
      "execution_count": 16,
      "outputs": []
    },
    {
      "cell_type": "code",
      "metadata": {
        "id": "x_b5cB1ezmiX",
        "colab_type": "code",
        "colab": {
          "base_uri": "https://localhost:8080/",
          "height": 900
        },
        "outputId": "1477d619-7217-44dc-872c-e5acb1d70e65"
      },
      "source": [
        "summary(model.cuda(), (3, 224,224))"
      ],
      "execution_count": 18,
      "outputs": [
        {
          "output_type": "stream",
          "text": [
            "----------------------------------------------------------------\n",
            "        Layer (type)               Output Shape         Param #\n",
            "================================================================\n",
            "            Conv2d-1         [-1, 64, 224, 224]           1,792\n",
            "            Conv2d-2         [-1, 64, 224, 224]          36,928\n",
            "         MaxPool2d-3         [-1, 64, 112, 112]               0\n",
            "            Conv2d-4         [-1, 64, 112, 112]          36,928\n",
            "            Conv2d-5        [-1, 128, 114, 114]           8,320\n",
            "       DWSepConv2d-6        [-1, 128, 114, 114]               0\n",
            "            Conv2d-7        [-1, 128, 114, 114]         147,584\n",
            "            Conv2d-8        [-1, 128, 116, 116]          16,512\n",
            "       DWSepConv2d-9        [-1, 128, 116, 116]               0\n",
            "        MaxPool2d-10          [-1, 128, 58, 58]               0\n",
            "           Conv2d-11          [-1, 128, 58, 58]         147,584\n",
            "           Conv2d-12          [-1, 256, 60, 60]          33,024\n",
            "      DWSepConv2d-13          [-1, 256, 60, 60]               0\n",
            "      BatchNorm2d-14          [-1, 256, 60, 60]             512\n",
            "           Conv2d-15          [-1, 256, 60, 60]         590,080\n",
            "           Conv2d-16          [-1, 256, 62, 62]          65,792\n",
            "      DWSepConv2d-17          [-1, 256, 62, 62]               0\n",
            "      BatchNorm2d-18          [-1, 256, 62, 62]             512\n",
            "           Conv2d-19          [-1, 256, 62, 62]         590,080\n",
            "           Conv2d-20          [-1, 256, 64, 64]          65,792\n",
            "      DWSepConv2d-21          [-1, 256, 64, 64]               0\n",
            "        MaxPool2d-22          [-1, 256, 32, 32]               0\n",
            "           Conv2d-23          [-1, 256, 32, 32]         590,080\n",
            "           Conv2d-24          [-1, 512, 34, 34]         131,584\n",
            "      DWSepConv2d-25          [-1, 512, 34, 34]               0\n",
            "      BatchNorm2d-26          [-1, 512, 34, 34]           1,024\n",
            "           Conv2d-27          [-1, 512, 34, 34]       2,359,808\n",
            "           Conv2d-28          [-1, 512, 36, 36]         262,656\n",
            "      DWSepConv2d-29          [-1, 512, 36, 36]               0\n",
            "      BatchNorm2d-30          [-1, 512, 36, 36]           1,024\n",
            "           Conv2d-31          [-1, 512, 36, 36]       2,359,808\n",
            "           Conv2d-32          [-1, 512, 38, 38]         262,656\n",
            "      DWSepConv2d-33          [-1, 512, 38, 38]               0\n",
            "        MaxPool2d-34          [-1, 512, 19, 19]               0\n",
            "          Flatten-35               [-1, 184832]               0\n",
            "           Linear-36                 [-1, 1024]     189,268,992\n",
            "          Dropout-37                 [-1, 1024]               0\n",
            "           Linear-38                  [-1, 512]         524,800\n",
            "          Dropout-39                  [-1, 512]               0\n",
            "           Linear-40                    [-1, 2]           1,026\n",
            "================================================================\n",
            "Total params: 197,504,898\n",
            "Trainable params: 197,466,178\n",
            "Non-trainable params: 38,720\n",
            "----------------------------------------------------------------\n",
            "Input size (MB): 0.57\n",
            "Forward/backward pass size (MB): 262.77\n",
            "Params size (MB): 753.42\n",
            "Estimated Total Size (MB): 1016.77\n",
            "----------------------------------------------------------------\n"
          ],
          "name": "stdout"
        }
      ]
    },
    {
      "cell_type": "markdown",
      "metadata": {
        "id": "ih5UVYQwVuqD",
        "colab_type": "text"
      },
      "source": [
        "## Heuristica EarlyStopping:"
      ]
    },
    {
      "cell_type": "code",
      "metadata": {
        "id": "tUdbW4DvVkfD",
        "colab_type": "code",
        "colab": {}
      },
      "source": [
        "# Clase EarlyStopping\n",
        "# Se requiere la libreria numpy!!\n",
        "import numpy  as np\n",
        "class EarlyStopping():\n",
        "  '''\n",
        "  Regularization heuristic:\n",
        "\n",
        "  '''\n",
        "  def __init__(self, modo='min', paciencia=5, porcentaje:bool = False, tol=0):\n",
        "    '''\n",
        "    Arguments:\n",
        "    ---------\n",
        "    modo: 'min' o 'max'. Si se debe minimizar o maximizar la metrica objetivo\n",
        "    paciancia: Cantidad de epocas en la que la metrica puede empeorar\n",
        "    porcentaje: si la diferencia es relativa (true) o absoluta\n",
        "    tol: diferencia minima que debe existir con respecto la mejor metrica ya\n",
        "        observada  para considerar si existe un empeoramiento del desempeno\n",
        "    '''\n",
        "    self.modo = modo\n",
        "    self.paciencia  = paciencia\n",
        "    self.porcentaje = porcentaje\n",
        "    self.best = np.Inf if self.modo == 'min' else -np.Inf\n",
        "    self.contador = 0\n",
        "    self.tol = tol\n",
        "\n",
        "  \n",
        "  def __compareMin(self, metrica_validacion):\n",
        "    if self.porcentaje:      \n",
        "      # Si la dif relativa es mayor a la tolerada: actualizar contador:\n",
        "      if metrica_validacion < (1-self.tol)*self.best:\n",
        "        self.contador = 0\n",
        "        self.best = metrica_validacion\n",
        "        return True\n",
        "      else:\n",
        "        self.contador +=1\n",
        "        return False\n",
        "    else:\n",
        "      if metrica_validacion < self.best - self.tol:\n",
        "        self.best = metrica_validacion\n",
        "        self.contador = 0\n",
        "        return True\n",
        "      else:\n",
        "        self.contador += 1\n",
        "        return False\n",
        "    \n",
        "    def __comareMax(self, metrica_validacion):\n",
        "      if self.porcentaje:\n",
        "         # Si la dif relativa es mayor a la tolerada: actualizar contador:\n",
        "        if metrica_validacion > (1+self.tol)*self.best:\n",
        "          self.contador = 0\n",
        "          self.best = metrica_validacion\n",
        "          return True\n",
        "        else:\n",
        "          self.contador +=1\n",
        "          return False\n",
        "      else:\n",
        "        if metrica_validacion > self.best + self.tol:\n",
        "          self.best = metrica_validacion\n",
        "          self.contador = 0\n",
        "          return True\n",
        "        else:\n",
        "          self.contador += 1\n",
        "          return False        \n",
        "\n",
        "  # Es necesaria la anotacion??\n",
        "  #@classmethod\n",
        "  def __mejor(self, metrica_validacion):\n",
        "    '''\n",
        "    Compara @metrica_validacion con la mejor ya observada segun las \n",
        "    especificaciones de porcentaje y modo. \n",
        "    '''\n",
        "    if self.modo == 'min':\n",
        "      # Comparar segun el modo y porcentaje:\n",
        "      if self.__compareMin(metrica_validacion):\n",
        "        return True\n",
        "      else:\n",
        "        return False\n",
        "    else:\n",
        "      # Comparar segun el modo y porcentaje:\n",
        "      if self.__compareMax(metrica_validacion):\n",
        "        return True\n",
        "      else:\n",
        "        return False\n",
        "\n",
        "  #@classmethod\n",
        "  def deberia_parar(self, metrica_validacion):\n",
        "    if not self.__mejor(metrica_validacion) and self.contador >= self.paciencia:\n",
        "      return True\n",
        "    else:\n",
        "      return False\n"
      ],
      "execution_count": 16,
      "outputs": []
    },
    {
      "cell_type": "markdown",
      "metadata": {
        "id": "xMLp_hClV9VC",
        "colab_type": "text"
      },
      "source": [
        "## Train model: \n",
        "Basado en metodo fit implementado en los notebooks de catedra:"
      ]
    },
    {
      "cell_type": "code",
      "metadata": {
        "id": "3teBgTyCqDVn",
        "colab_type": "code",
        "colab": {}
      },
      "source": [
        "def loss_batch(model, loss_func, xb, yb, opt=None):\n",
        "    loss = loss_func(model(xb), yb)\n",
        "\n",
        "    if opt is not None:\n",
        "        loss.backward()\n",
        "        opt.step()\n",
        "        opt.zero_grad()\n",
        "\n",
        "    return loss.item(), len(xb)"
      ],
      "execution_count": 17,
      "outputs": []
    },
    {
      "cell_type": "code",
      "metadata": {
        "id": "nYW8cZDcP8sA",
        "colab_type": "code",
        "colab": {}
      },
      "source": [
        "import numpy as np \n",
        "\n",
        "def register(res_list):\n",
        "    '''Obtiene la perdida promedio y su desviacion estandar en batches.'''\n",
        "    \n",
        "    losses, nums = zip(*res_list)\n",
        "    \n",
        "    N = np.sum(nums)\n",
        "    loss_mean = np.sum(np.multiply(losses, nums))/N\n",
        "    loss_std = np.sqrt(np.sum(np.multiply((losses-loss_mean)**2, nums))/(N-1))\n",
        "    \n",
        "    return loss_mean, loss_std"
      ],
      "execution_count": 18,
      "outputs": []
    },
    {
      "cell_type": "code",
      "metadata": {
        "id": "vTUH6mEpZJvS",
        "colab_type": "code",
        "colab": {}
      },
      "source": [
        "import pandas as pd\n",
        "\n",
        "def train_model(model, loss_func, opt, metric = None, modo = 'min', paciencia = 5, num_epochs=20):\n",
        "  since = time.time()\n",
        "  es = EarlyStopping(modo = 'min', paciencia=paciencia)\n",
        "  best_model_wts = copy.deepcopy(model.state_dict())\n",
        "  best_acc = 0.0\n",
        "  if metric is None:\n",
        "    metric = loss_func\n",
        "\n",
        "  learning_data = pd.DataFrame(\n",
        "  columns=['epoch', 'train_mean', 'train_std', 'val_mean', 'val_std'])\n",
        "\n",
        "  for epoch in range(num_epochs):\n",
        "    print('Epoch {}/{}'.format(epoch, num_epochs - 1))\n",
        "    print('-' * 10)\n",
        "\n",
        "    # Each epoch has a training and validation phase\n",
        "    train_res = []\n",
        "    for phase in ['train', 'val']:\n",
        "      if phase == 'train':\n",
        "        model.train()  # Set model to training mode\n",
        "\n",
        "        for inputs, labels in dataloaders[phase]:\n",
        "          inputs = inputs.to(device)\n",
        "          labels = labels.to(device)\n",
        "\n",
        "          # Para entrenar se usa la funcion de perdida\n",
        "          loss_batch(model, loss_func, inputs, labels, opt)\n",
        "\n",
        "          # Para almacenar se puede usar una metrica\n",
        "          train_res.append(loss_batch(model, metric, inputs, labels))\n",
        "      else:\n",
        "        model.eval()   # Set model to evaluate mode\n",
        "        for inputs, labels in dataloaders[phase]:\n",
        "          inputs = inputs.to(device)\n",
        "          labels = labels.to(device)\n",
        "\n",
        "          with torch.no_grad():\n",
        "            val_res = [\n",
        "                loss_batch(model, metric, inputs, labels) \n",
        "            ]\n",
        "\n",
        "    val_loss, val_std = register(val_res)\n",
        "    train_loss, train_std = register(train_res)\n",
        "\n",
        "    if epoch % print_leap == 0:\n",
        "      print('Epoca:', epoch, '- val:', val_loss, '- train:', train_loss)\n",
        "\n",
        "    learning_data = learning_data.append(\n",
        "                    {\n",
        "                    'epoch': epoch,\n",
        "                    'train_mean': train_loss,\n",
        "                    'train_std': train_std,\n",
        "                    'val_mean': val_loss,\n",
        "                    'val_std': val_std\n",
        "                    },\n",
        "                    ignore_index=True)\n",
        "\n",
        "\n",
        "    if es.deberia_parar(epoch_loss):\n",
        "      break\n",
        "    else:\n",
        "      continue\n",
        "    print()\n",
        "\n",
        "  time_elapsed = time.time() - since\n",
        "  print('Training complete in {:.0f}m {:.0f}s'.format(\n",
        "  time_elapsed // 60, time_elapsed % 60))\n",
        "  print('Best val Acc: {:4f}'.format(best_acc))\n",
        "\n",
        "  # load best model weights\n",
        "  model.load_state_dict(best_model_wts)\n",
        "  return model, learning_data"
      ],
      "execution_count": 19,
      "outputs": []
    },
    {
      "cell_type": "code",
      "metadata": {
        "id": "oRr7HczrvCu4",
        "colab_type": "code",
        "colab": {}
      },
      "source": [
        "model_ft = model.to(device)\n",
        "\n",
        "criterion = nn.CrossEntropyLoss()\n",
        "\n",
        "# Observe that all parameters are being optimized\n",
        "optimizer_ft = optim.Adam(model_ft.parameters(), lr=1e-4, weight_decay=1e-5)"
      ],
      "execution_count": 20,
      "outputs": []
    },
    {
      "cell_type": "code",
      "metadata": {
        "id": "u0EResQ0uIs_",
        "colab_type": "code",
        "colab": {
          "base_uri": "https://localhost:8080/",
          "height": 404
        },
        "outputId": "861f5d78-6229-400e-8490-6621fb8993b7"
      },
      "source": [
        "model_ft, ld = train_model(model_ft, criterion, optimizer_ft,  paciencia = 7,\n",
        "                       num_epochs=20)"
      ],
      "execution_count": 21,
      "outputs": [
        {
          "output_type": "stream",
          "text": [
            "Epoch 0/19\n",
            "----------\n"
          ],
          "name": "stdout"
        },
        {
          "output_type": "error",
          "ename": "ValueError",
          "evalue": "ignored",
          "traceback": [
            "\u001b[0;31m---------------------------------------------------------------------------\u001b[0m",
            "\u001b[0;31mValueError\u001b[0m                                Traceback (most recent call last)",
            "\u001b[0;32m<ipython-input-21-82409cc72413>\u001b[0m in \u001b[0;36m<module>\u001b[0;34m()\u001b[0m\n\u001b[1;32m      1\u001b[0m model_ft, ld = train_model(model_ft, criterion, optimizer_ft,  paciencia = 7,\n\u001b[0;32m----> 2\u001b[0;31m                        num_epochs=20)\n\u001b[0m",
            "\u001b[0;32m<ipython-input-19-806c3219cb7b>\u001b[0m in \u001b[0;36mtrain_model\u001b[0;34m(model, loss_func, opt, metric, modo, paciencia, num_epochs)\u001b[0m\n\u001b[1;32m     33\u001b[0m       \u001b[0;32melse\u001b[0m\u001b[0;34m:\u001b[0m\u001b[0;34m\u001b[0m\u001b[0;34m\u001b[0m\u001b[0m\n\u001b[1;32m     34\u001b[0m         \u001b[0mmodel\u001b[0m\u001b[0;34m.\u001b[0m\u001b[0meval\u001b[0m\u001b[0;34m(\u001b[0m\u001b[0;34m)\u001b[0m   \u001b[0;31m# Set model to evaluate mode\u001b[0m\u001b[0;34m\u001b[0m\u001b[0;34m\u001b[0m\u001b[0m\n\u001b[0;32m---> 35\u001b[0;31m         \u001b[0;32mfor\u001b[0m \u001b[0minputs\u001b[0m\u001b[0;34m,\u001b[0m \u001b[0mlabels\u001b[0m \u001b[0;32min\u001b[0m \u001b[0mdataloaders\u001b[0m\u001b[0;34m[\u001b[0m\u001b[0mphase\u001b[0m\u001b[0;34m]\u001b[0m\u001b[0;34m:\u001b[0m\u001b[0;34m\u001b[0m\u001b[0;34m\u001b[0m\u001b[0m\n\u001b[0m\u001b[1;32m     36\u001b[0m           \u001b[0minputs\u001b[0m \u001b[0;34m=\u001b[0m \u001b[0minputs\u001b[0m\u001b[0;34m.\u001b[0m\u001b[0mto\u001b[0m\u001b[0;34m(\u001b[0m\u001b[0mdevice\u001b[0m\u001b[0;34m)\u001b[0m\u001b[0;34m\u001b[0m\u001b[0;34m\u001b[0m\u001b[0m\n\u001b[1;32m     37\u001b[0m           \u001b[0mlabels\u001b[0m \u001b[0;34m=\u001b[0m \u001b[0mlabels\u001b[0m\u001b[0;34m.\u001b[0m\u001b[0mto\u001b[0m\u001b[0;34m(\u001b[0m\u001b[0mdevice\u001b[0m\u001b[0;34m)\u001b[0m\u001b[0;34m\u001b[0m\u001b[0;34m\u001b[0m\u001b[0m\n",
            "\u001b[0;32m/usr/local/lib/python3.6/dist-packages/torch/utils/data/dataloader.py\u001b[0m in \u001b[0;36m__iter__\u001b[0;34m(self)\u001b[0m\n\u001b[1;32m    277\u001b[0m             \u001b[0;32mreturn\u001b[0m \u001b[0m_SingleProcessDataLoaderIter\u001b[0m\u001b[0;34m(\u001b[0m\u001b[0mself\u001b[0m\u001b[0;34m)\u001b[0m\u001b[0;34m\u001b[0m\u001b[0;34m\u001b[0m\u001b[0m\n\u001b[1;32m    278\u001b[0m         \u001b[0;32melse\u001b[0m\u001b[0;34m:\u001b[0m\u001b[0;34m\u001b[0m\u001b[0;34m\u001b[0m\u001b[0m\n\u001b[0;32m--> 279\u001b[0;31m             \u001b[0;32mreturn\u001b[0m \u001b[0m_MultiProcessingDataLoaderIter\u001b[0m\u001b[0;34m(\u001b[0m\u001b[0mself\u001b[0m\u001b[0;34m)\u001b[0m\u001b[0;34m\u001b[0m\u001b[0;34m\u001b[0m\u001b[0m\n\u001b[0m\u001b[1;32m    280\u001b[0m \u001b[0;34m\u001b[0m\u001b[0m\n\u001b[1;32m    281\u001b[0m     \u001b[0;34m@\u001b[0m\u001b[0mproperty\u001b[0m\u001b[0;34m\u001b[0m\u001b[0;34m\u001b[0m\u001b[0m\n",
            "\u001b[0;32m/usr/local/lib/python3.6/dist-packages/torch/utils/data/dataloader.py\u001b[0m in \u001b[0;36m__init__\u001b[0;34m(self, loader)\u001b[0m\n\u001b[1;32m    744\u001b[0m         \u001b[0;31m# prime the prefetch loop\u001b[0m\u001b[0;34m\u001b[0m\u001b[0;34m\u001b[0m\u001b[0;34m\u001b[0m\u001b[0m\n\u001b[1;32m    745\u001b[0m         \u001b[0;32mfor\u001b[0m \u001b[0m_\u001b[0m \u001b[0;32min\u001b[0m \u001b[0mrange\u001b[0m\u001b[0;34m(\u001b[0m\u001b[0;36m2\u001b[0m \u001b[0;34m*\u001b[0m \u001b[0mself\u001b[0m\u001b[0;34m.\u001b[0m\u001b[0m_num_workers\u001b[0m\u001b[0;34m)\u001b[0m\u001b[0;34m:\u001b[0m\u001b[0;34m\u001b[0m\u001b[0;34m\u001b[0m\u001b[0m\n\u001b[0;32m--> 746\u001b[0;31m             \u001b[0mself\u001b[0m\u001b[0;34m.\u001b[0m\u001b[0m_try_put_index\u001b[0m\u001b[0;34m(\u001b[0m\u001b[0;34m)\u001b[0m\u001b[0;34m\u001b[0m\u001b[0;34m\u001b[0m\u001b[0m\n\u001b[0m\u001b[1;32m    747\u001b[0m \u001b[0;34m\u001b[0m\u001b[0m\n\u001b[1;32m    748\u001b[0m     \u001b[0;32mdef\u001b[0m \u001b[0m_try_get_data\u001b[0m\u001b[0;34m(\u001b[0m\u001b[0mself\u001b[0m\u001b[0;34m,\u001b[0m \u001b[0mtimeout\u001b[0m\u001b[0;34m=\u001b[0m\u001b[0m_utils\u001b[0m\u001b[0;34m.\u001b[0m\u001b[0mMP_STATUS_CHECK_INTERVAL\u001b[0m\u001b[0;34m)\u001b[0m\u001b[0;34m:\u001b[0m\u001b[0;34m\u001b[0m\u001b[0;34m\u001b[0m\u001b[0m\n",
            "\u001b[0;32m/usr/local/lib/python3.6/dist-packages/torch/utils/data/dataloader.py\u001b[0m in \u001b[0;36m_try_put_index\u001b[0;34m(self)\u001b[0m\n\u001b[1;32m    859\u001b[0m         \u001b[0;32massert\u001b[0m \u001b[0mself\u001b[0m\u001b[0;34m.\u001b[0m\u001b[0m_tasks_outstanding\u001b[0m \u001b[0;34m<\u001b[0m \u001b[0;36m2\u001b[0m \u001b[0;34m*\u001b[0m \u001b[0mself\u001b[0m\u001b[0;34m.\u001b[0m\u001b[0m_num_workers\u001b[0m\u001b[0;34m\u001b[0m\u001b[0;34m\u001b[0m\u001b[0m\n\u001b[1;32m    860\u001b[0m         \u001b[0;32mtry\u001b[0m\u001b[0;34m:\u001b[0m\u001b[0;34m\u001b[0m\u001b[0;34m\u001b[0m\u001b[0m\n\u001b[0;32m--> 861\u001b[0;31m             \u001b[0mindex\u001b[0m \u001b[0;34m=\u001b[0m \u001b[0mself\u001b[0m\u001b[0;34m.\u001b[0m\u001b[0m_next_index\u001b[0m\u001b[0;34m(\u001b[0m\u001b[0;34m)\u001b[0m\u001b[0;34m\u001b[0m\u001b[0;34m\u001b[0m\u001b[0m\n\u001b[0m\u001b[1;32m    862\u001b[0m         \u001b[0;32mexcept\u001b[0m \u001b[0mStopIteration\u001b[0m\u001b[0;34m:\u001b[0m\u001b[0;34m\u001b[0m\u001b[0;34m\u001b[0m\u001b[0m\n\u001b[1;32m    863\u001b[0m             \u001b[0;32mreturn\u001b[0m\u001b[0;34m\u001b[0m\u001b[0;34m\u001b[0m\u001b[0m\n",
            "\u001b[0;32m/usr/local/lib/python3.6/dist-packages/torch/utils/data/dataloader.py\u001b[0m in \u001b[0;36m_next_index\u001b[0;34m(self)\u001b[0m\n\u001b[1;32m    337\u001b[0m \u001b[0;34m\u001b[0m\u001b[0m\n\u001b[1;32m    338\u001b[0m     \u001b[0;32mdef\u001b[0m \u001b[0m_next_index\u001b[0m\u001b[0;34m(\u001b[0m\u001b[0mself\u001b[0m\u001b[0;34m)\u001b[0m\u001b[0;34m:\u001b[0m\u001b[0;34m\u001b[0m\u001b[0;34m\u001b[0m\u001b[0m\n\u001b[0;32m--> 339\u001b[0;31m         \u001b[0;32mreturn\u001b[0m \u001b[0mnext\u001b[0m\u001b[0;34m(\u001b[0m\u001b[0mself\u001b[0m\u001b[0;34m.\u001b[0m\u001b[0m_sampler_iter\u001b[0m\u001b[0;34m)\u001b[0m  \u001b[0;31m# may raise StopIteration\u001b[0m\u001b[0;34m\u001b[0m\u001b[0;34m\u001b[0m\u001b[0m\n\u001b[0m\u001b[1;32m    340\u001b[0m \u001b[0;34m\u001b[0m\u001b[0m\n\u001b[1;32m    341\u001b[0m     \u001b[0;32mdef\u001b[0m \u001b[0m_next_data\u001b[0m\u001b[0;34m(\u001b[0m\u001b[0mself\u001b[0m\u001b[0;34m)\u001b[0m\u001b[0;34m:\u001b[0m\u001b[0;34m\u001b[0m\u001b[0;34m\u001b[0m\u001b[0m\n",
            "\u001b[0;32m/usr/local/lib/python3.6/dist-packages/torch/utils/data/sampler.py\u001b[0m in \u001b[0;36m__iter__\u001b[0;34m(self)\u001b[0m\n\u001b[1;32m    198\u001b[0m     \u001b[0;32mdef\u001b[0m \u001b[0m__iter__\u001b[0m\u001b[0;34m(\u001b[0m\u001b[0mself\u001b[0m\u001b[0;34m)\u001b[0m\u001b[0;34m:\u001b[0m\u001b[0;34m\u001b[0m\u001b[0;34m\u001b[0m\u001b[0m\n\u001b[1;32m    199\u001b[0m         \u001b[0mbatch\u001b[0m \u001b[0;34m=\u001b[0m \u001b[0;34m[\u001b[0m\u001b[0;34m]\u001b[0m\u001b[0;34m\u001b[0m\u001b[0;34m\u001b[0m\u001b[0m\n\u001b[0;32m--> 200\u001b[0;31m         \u001b[0;32mfor\u001b[0m \u001b[0midx\u001b[0m \u001b[0;32min\u001b[0m \u001b[0mself\u001b[0m\u001b[0;34m.\u001b[0m\u001b[0msampler\u001b[0m\u001b[0;34m:\u001b[0m\u001b[0;34m\u001b[0m\u001b[0;34m\u001b[0m\u001b[0m\n\u001b[0m\u001b[1;32m    201\u001b[0m             \u001b[0mbatch\u001b[0m\u001b[0;34m.\u001b[0m\u001b[0mappend\u001b[0m\u001b[0;34m(\u001b[0m\u001b[0midx\u001b[0m\u001b[0;34m)\u001b[0m\u001b[0;34m\u001b[0m\u001b[0;34m\u001b[0m\u001b[0m\n\u001b[1;32m    202\u001b[0m             \u001b[0;32mif\u001b[0m \u001b[0mlen\u001b[0m\u001b[0;34m(\u001b[0m\u001b[0mbatch\u001b[0m\u001b[0;34m)\u001b[0m \u001b[0;34m==\u001b[0m \u001b[0mself\u001b[0m\u001b[0;34m.\u001b[0m\u001b[0mbatch_size\u001b[0m\u001b[0;34m:\u001b[0m\u001b[0;34m\u001b[0m\u001b[0;34m\u001b[0m\u001b[0m\n",
            "\u001b[0;32m<ipython-input-5-382d3b7d737f>\u001b[0m in \u001b[0;36m__iter__\u001b[0;34m(self)\u001b[0m\n\u001b[1;32m     20\u001b[0m                                 ]\n\u001b[1;32m     21\u001b[0m     \u001b[0;32mdef\u001b[0m \u001b[0m__iter__\u001b[0m\u001b[0;34m(\u001b[0m\u001b[0mself\u001b[0m\u001b[0;34m)\u001b[0m\u001b[0;34m:\u001b[0m\u001b[0;34m\u001b[0m\u001b[0;34m\u001b[0m\u001b[0m\n\u001b[0;32m---> 22\u001b[0;31m         \u001b[0;32mreturn\u001b[0m \u001b[0miter\u001b[0m\u001b[0;34m(\u001b[0m\u001b[0mnp\u001b[0m\u001b[0;34m.\u001b[0m\u001b[0mrandom\u001b[0m\u001b[0;34m.\u001b[0m\u001b[0mchoice\u001b[0m\u001b[0;34m(\u001b[0m\u001b[0mself\u001b[0m\u001b[0;34m.\u001b[0m\u001b[0mindices_val\u001b[0m\u001b[0;34m,\u001b[0m\u001b[0mp\u001b[0m\u001b[0;34m=\u001b[0m\u001b[0mself\u001b[0m\u001b[0;34m.\u001b[0m\u001b[0mprob_vector\u001b[0m\u001b[0;34m)\u001b[0m\u001b[0;34m)\u001b[0m\u001b[0;34m\u001b[0m\u001b[0;34m\u001b[0m\u001b[0m\n\u001b[0m\u001b[1;32m     23\u001b[0m \u001b[0;34m\u001b[0m\u001b[0m\n\u001b[1;32m     24\u001b[0m \u001b[0metiquetas_prueba\u001b[0m \u001b[0;34m=\u001b[0m \u001b[0mdata_test1\u001b[0m\u001b[0;34m.\u001b[0m\u001b[0mtargets\u001b[0m\u001b[0;34m\u001b[0m\u001b[0;34m\u001b[0m\u001b[0m\n",
            "\u001b[0;32mmtrand.pyx\u001b[0m in \u001b[0;36mnumpy.random.mtrand.RandomState.choice\u001b[0;34m()\u001b[0m\n",
            "\u001b[0;31mValueError\u001b[0m: probabilities do not sum to 1"
          ]
        }
      ]
    },
    {
      "cell_type": "code",
      "metadata": {
        "id": "Ih7x7CXewCFO",
        "colab_type": "code",
        "colab": {
          "base_uri": "https://localhost:8080/",
          "height": 941
        },
        "outputId": "e16c015e-6fe7-489f-af28-55d2be5723df"
      },
      "source": [
        ""
      ],
      "execution_count": 22,
      "outputs": [
        {
          "output_type": "stream",
          "text": [
            "----------------------------------------------------------------\n",
            "        Layer (type)               Output Shape         Param #\n",
            "================================================================\n",
            "            Conv2d-1         [-1, 64, 224, 244]           1,792\n",
            "              ReLU-2         [-1, 64, 224, 244]               0\n",
            "            Conv2d-3         [-1, 64, 224, 244]          36,928\n",
            "              ReLU-4         [-1, 64, 224, 244]               0\n",
            "         MaxPool2d-5         [-1, 64, 112, 122]               0\n",
            "            Conv2d-6        [-1, 128, 112, 122]          73,856\n",
            "              ReLU-7        [-1, 128, 112, 122]               0\n",
            "            Conv2d-8        [-1, 128, 112, 122]         147,584\n",
            "              ReLU-9        [-1, 128, 112, 122]               0\n",
            "        MaxPool2d-10          [-1, 128, 56, 61]               0\n",
            "           Conv2d-11          [-1, 256, 56, 61]         295,168\n",
            "             ReLU-12          [-1, 256, 56, 61]               0\n",
            "           Conv2d-13          [-1, 256, 56, 61]         590,080\n",
            "             ReLU-14          [-1, 256, 56, 61]               0\n",
            "           Conv2d-15          [-1, 256, 56, 61]         590,080\n",
            "             ReLU-16          [-1, 256, 56, 61]               0\n",
            "        MaxPool2d-17          [-1, 256, 28, 30]               0\n",
            "           Conv2d-18          [-1, 512, 28, 30]       1,180,160\n",
            "             ReLU-19          [-1, 512, 28, 30]               0\n",
            "           Conv2d-20          [-1, 512, 28, 30]       2,359,808\n",
            "             ReLU-21          [-1, 512, 28, 30]               0\n",
            "           Conv2d-22          [-1, 512, 28, 30]       2,359,808\n",
            "             ReLU-23          [-1, 512, 28, 30]               0\n",
            "        MaxPool2d-24          [-1, 512, 14, 15]               0\n",
            "           Conv2d-25          [-1, 512, 14, 15]       2,359,808\n",
            "             ReLU-26          [-1, 512, 14, 15]               0\n",
            "           Conv2d-27          [-1, 512, 14, 15]       2,359,808\n",
            "             ReLU-28          [-1, 512, 14, 15]               0\n",
            "           Conv2d-29          [-1, 512, 14, 15]       2,359,808\n",
            "             ReLU-30          [-1, 512, 14, 15]               0\n",
            "        MaxPool2d-31            [-1, 512, 7, 7]               0\n",
            "AdaptiveAvgPool2d-32            [-1, 512, 7, 7]               0\n",
            "           Linear-33                 [-1, 4096]     102,764,544\n",
            "             ReLU-34                 [-1, 4096]               0\n",
            "          Dropout-35                 [-1, 4096]               0\n",
            "           Linear-36                 [-1, 4096]      16,781,312\n",
            "             ReLU-37                 [-1, 4096]               0\n",
            "          Dropout-38                 [-1, 4096]               0\n",
            "           Linear-39                 [-1, 1000]       4,097,000\n",
            "================================================================\n",
            "Total params: 138,357,544\n",
            "Trainable params: 0\n",
            "Non-trainable params: 138,357,544\n",
            "----------------------------------------------------------------\n",
            "Input size (MB): 0.63\n",
            "Forward/backward pass size (MB): 237.81\n",
            "Params size (MB): 527.79\n",
            "Estimated Total Size (MB): 766.23\n",
            "----------------------------------------------------------------\n"
          ],
          "name": "stdout"
        }
      ]
    },
    {
      "cell_type": "code",
      "metadata": {
        "id": "TPfkyW8fzYIo",
        "colab_type": "code",
        "colab": {}
      },
      "source": [
        ""
      ],
      "execution_count": null,
      "outputs": []
    }
  ]
}